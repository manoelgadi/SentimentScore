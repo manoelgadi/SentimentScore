{
 "cells": [
  {
   "cell_type": "markdown",
   "id": "f8597068",
   "metadata": {},
   "source": [
    "## Sentiment Analysis from CryptoLin"
   ]
  },
  {
   "cell_type": "markdown",
   "id": "d71e5315",
   "metadata": {},
   "source": [
    "### Importing the data of CryptoLin for finBERT model Training "
   ]
  },
  {
   "cell_type": "code",
   "execution_count": 1,
   "id": "87b8d3f4",
   "metadata": {},
   "outputs": [],
   "source": [
    "import warnings\n",
    "import pandas as pd\n",
    "warnings.filterwarnings('ignore')\n",
    "from sklearn.metrics import accuracy_score, recall_score, precision_score, f1_score"
   ]
  },
  {
   "cell_type": "code",
   "execution_count": 2,
   "id": "40cb9468",
   "metadata": {},
   "outputs": [],
   "source": [
    "df = pd.read_csv(\"CryptoLin_IE.csv\")"
   ]
  },
  {
   "cell_type": "code",
   "execution_count": 3,
   "id": "dd253ca3",
   "metadata": {},
   "outputs": [
    {
     "data": {
      "text/plain": [
       "Index(['id', 'date', 'news', 'final_manual_labelling', 'text_span',\n",
       "       'type_abnormal_return_fama_frech', 'vader', 'textblob', 'flair',\n",
       "       'finbert_positive', 'finbert_negative', 'finbert_neutral',\n",
       "       'vader_class', 'textblob_class', 'flair_class',\n",
       "       'finbert_positive_class', 'finbert_negative_class',\n",
       "       'finbert_neutral_class'],\n",
       "      dtype='object')"
      ]
     },
     "execution_count": 3,
     "metadata": {},
     "output_type": "execute_result"
    }
   ],
   "source": [
    "df.columns"
   ]
  },
  {
   "cell_type": "code",
   "execution_count": 4,
   "id": "57c36064",
   "metadata": {},
   "outputs": [],
   "source": [
    "df.drop(['id'],inplace=True,axis=1)"
   ]
  },
  {
   "cell_type": "code",
   "execution_count": 5,
   "id": "fdbb1b12",
   "metadata": {},
   "outputs": [
    {
     "data": {
      "text/html": [
       "<div>\n",
       "<style scoped>\n",
       "    .dataframe tbody tr th:only-of-type {\n",
       "        vertical-align: middle;\n",
       "    }\n",
       "\n",
       "    .dataframe tbody tr th {\n",
       "        vertical-align: top;\n",
       "    }\n",
       "\n",
       "    .dataframe thead th {\n",
       "        text-align: right;\n",
       "    }\n",
       "</style>\n",
       "<table border=\"1\" class=\"dataframe\">\n",
       "  <thead>\n",
       "    <tr style=\"text-align: right;\">\n",
       "      <th></th>\n",
       "      <th>date</th>\n",
       "      <th>news</th>\n",
       "      <th>final_manual_labelling</th>\n",
       "      <th>text_span</th>\n",
       "      <th>type_abnormal_return_fama_frech</th>\n",
       "      <th>vader</th>\n",
       "      <th>textblob</th>\n",
       "      <th>flair</th>\n",
       "      <th>finbert_positive</th>\n",
       "      <th>finbert_negative</th>\n",
       "      <th>finbert_neutral</th>\n",
       "      <th>vader_class</th>\n",
       "      <th>textblob_class</th>\n",
       "      <th>flair_class</th>\n",
       "      <th>finbert_positive_class</th>\n",
       "      <th>finbert_negative_class</th>\n",
       "      <th>finbert_neutral_class</th>\n",
       "    </tr>\n",
       "  </thead>\n",
       "  <tbody>\n",
       "    <tr>\n",
       "      <th>0</th>\n",
       "      <td>2022-01-25</td>\n",
       "      <td>Ripple announces stock buyback, nabs $15 billi...</td>\n",
       "      <td>1</td>\n",
       "      <td>{annotator1_id:22;annotator1_label:1; annotato...</td>\n",
       "      <td>0</td>\n",
       "      <td>0.0000</td>\n",
       "      <td>0.000000</td>\n",
       "      <td>0.875877</td>\n",
       "      <td>0.098288</td>\n",
       "      <td>-0.020569</td>\n",
       "      <td>0.881142</td>\n",
       "      <td>0</td>\n",
       "      <td>-1</td>\n",
       "      <td>-1</td>\n",
       "      <td>1</td>\n",
       "      <td>0</td>\n",
       "      <td>1</td>\n",
       "    </tr>\n",
       "    <tr>\n",
       "      <th>1</th>\n",
       "      <td>2022-01-25</td>\n",
       "      <td>IMF directors urge El Salvador to remove Bitco...</td>\n",
       "      <td>-1</td>\n",
       "      <td>{annotator1_id:16;annotator1_label:-1; annotat...</td>\n",
       "      <td>0</td>\n",
       "      <td>0.1280</td>\n",
       "      <td>0.200000</td>\n",
       "      <td>0.998796</td>\n",
       "      <td>0.047823</td>\n",
       "      <td>-0.162971</td>\n",
       "      <td>0.789206</td>\n",
       "      <td>1</td>\n",
       "      <td>1</td>\n",
       "      <td>1</td>\n",
       "      <td>-1</td>\n",
       "      <td>-1</td>\n",
       "      <td>1</td>\n",
       "    </tr>\n",
       "    <tr>\n",
       "      <th>2</th>\n",
       "      <td>2022-01-25</td>\n",
       "      <td>Dragonfly Capital is raising $500 million for ...</td>\n",
       "      <td>1</td>\n",
       "      <td>{annotator1_id:45;annotator1_label:1; annotato...</td>\n",
       "      <td>0</td>\n",
       "      <td>0.0000</td>\n",
       "      <td>0.136364</td>\n",
       "      <td>0.984027</td>\n",
       "      <td>0.156997</td>\n",
       "      <td>-0.008097</td>\n",
       "      <td>0.834906</td>\n",
       "      <td>0</td>\n",
       "      <td>1</td>\n",
       "      <td>1</td>\n",
       "      <td>1</td>\n",
       "      <td>1</td>\n",
       "      <td>1</td>\n",
       "    </tr>\n",
       "    <tr>\n",
       "      <th>3</th>\n",
       "      <td>2022-01-25</td>\n",
       "      <td>Rick and Morty co-creator collaborates with Pa...</td>\n",
       "      <td>0</td>\n",
       "      <td>{annotator1_id:32;annotator1_label:0; annotato...</td>\n",
       "      <td>0</td>\n",
       "      <td>0.0000</td>\n",
       "      <td>0.000000</td>\n",
       "      <td>0.996666</td>\n",
       "      <td>0.055608</td>\n",
       "      <td>-0.015489</td>\n",
       "      <td>0.928903</td>\n",
       "      <td>0</td>\n",
       "      <td>-1</td>\n",
       "      <td>1</td>\n",
       "      <td>0</td>\n",
       "      <td>0</td>\n",
       "      <td>1</td>\n",
       "    </tr>\n",
       "    <tr>\n",
       "      <th>4</th>\n",
       "      <td>2022-01-25</td>\n",
       "      <td>How fintech SPACs lost their shine</td>\n",
       "      <td>0</td>\n",
       "      <td>{annotator1_id:48;annotator1_label:0; annotato...</td>\n",
       "      <td>0</td>\n",
       "      <td>-0.3182</td>\n",
       "      <td>0.000000</td>\n",
       "      <td>0.999921</td>\n",
       "      <td>0.039964</td>\n",
       "      <td>-0.472788</td>\n",
       "      <td>0.487248</td>\n",
       "      <td>-1</td>\n",
       "      <td>-1</td>\n",
       "      <td>1</td>\n",
       "      <td>-1</td>\n",
       "      <td>-1</td>\n",
       "      <td>-1</td>\n",
       "    </tr>\n",
       "  </tbody>\n",
       "</table>\n",
       "</div>"
      ],
      "text/plain": [
       "         date                                               news  \\\n",
       "0  2022-01-25  Ripple announces stock buyback, nabs $15 billi...   \n",
       "1  2022-01-25  IMF directors urge El Salvador to remove Bitco...   \n",
       "2  2022-01-25  Dragonfly Capital is raising $500 million for ...   \n",
       "3  2022-01-25  Rick and Morty co-creator collaborates with Pa...   \n",
       "4  2022-01-25                 How fintech SPACs lost their shine   \n",
       "\n",
       "   final_manual_labelling                                          text_span  \\\n",
       "0                       1  {annotator1_id:22;annotator1_label:1; annotato...   \n",
       "1                      -1  {annotator1_id:16;annotator1_label:-1; annotat...   \n",
       "2                       1  {annotator1_id:45;annotator1_label:1; annotato...   \n",
       "3                       0  {annotator1_id:32;annotator1_label:0; annotato...   \n",
       "4                       0  {annotator1_id:48;annotator1_label:0; annotato...   \n",
       "\n",
       "   type_abnormal_return_fama_frech   vader  textblob     flair  \\\n",
       "0                                0  0.0000  0.000000  0.875877   \n",
       "1                                0  0.1280  0.200000  0.998796   \n",
       "2                                0  0.0000  0.136364  0.984027   \n",
       "3                                0  0.0000  0.000000  0.996666   \n",
       "4                                0 -0.3182  0.000000  0.999921   \n",
       "\n",
       "   finbert_positive  finbert_negative  finbert_neutral  vader_class  \\\n",
       "0          0.098288         -0.020569         0.881142            0   \n",
       "1          0.047823         -0.162971         0.789206            1   \n",
       "2          0.156997         -0.008097         0.834906            0   \n",
       "3          0.055608         -0.015489         0.928903            0   \n",
       "4          0.039964         -0.472788         0.487248           -1   \n",
       "\n",
       "   textblob_class  flair_class  finbert_positive_class  \\\n",
       "0              -1           -1                       1   \n",
       "1               1            1                      -1   \n",
       "2               1            1                       1   \n",
       "3              -1            1                       0   \n",
       "4              -1            1                      -1   \n",
       "\n",
       "   finbert_negative_class  finbert_neutral_class  \n",
       "0                       0                      1  \n",
       "1                      -1                      1  \n",
       "2                       1                      1  \n",
       "3                       0                      1  \n",
       "4                      -1                     -1  "
      ]
     },
     "execution_count": 5,
     "metadata": {},
     "output_type": "execute_result"
    }
   ],
   "source": [
    "df.head()"
   ]
  },
  {
   "cell_type": "code",
   "execution_count": 6,
   "id": "5b5d33dc",
   "metadata": {},
   "outputs": [],
   "source": [
    "#We ae going to use the reduce manual_labeled df for training our finBERT model:\n",
    "input_df = df[['date','news','final_manual_labelling','text_span']]"
   ]
  },
  {
   "cell_type": "markdown",
   "id": "21ebdcce",
   "metadata": {},
   "source": [
    "## FinBERT Sentiment Analysis\n",
    "ref: https://wandb.ai/ivangoncharov/FinBERT_Sentiment_Analysis_Project/reports/Financial-Sentiment-Analysis-on-Stock-Market-Headlines-With-FinBERT-Hugging-Face--VmlldzoxMDQ4NjM0\n",
    "\n",
    "HuggingFace makes it really easy for us to try out different NLP models. We can find the FinBERT model on the HuggingFace model hub (https://huggingface.co/ProsusAI/finbert) & even run a test inference using a little text box right on their website (https://huggingface.co/ProsusAI/finbert)! "
   ]
  },
  {
   "cell_type": "markdown",
   "id": "e374d759",
   "metadata": {},
   "source": [
    "#### Using Finbert as it is, checking the output "
   ]
  },
  {
   "cell_type": "code",
   "execution_count": 7,
   "id": "49ff07ee",
   "metadata": {},
   "outputs": [],
   "source": [
    "#!pip install transformers"
   ]
  },
  {
   "cell_type": "code",
   "execution_count": 8,
   "id": "ab1c2aaf",
   "metadata": {},
   "outputs": [],
   "source": [
    "import torch\n",
    "from transformers import AutoTokenizer, AutoModelForSequenceClassification"
   ]
  },
  {
   "cell_type": "code",
   "execution_count": 9,
   "id": "a7fafc18",
   "metadata": {},
   "outputs": [],
   "source": [
    "tokenizer = AutoTokenizer.from_pretrained(\"ProsusAI/finbert\")\n",
    "model = AutoModelForSequenceClassification.from_pretrained(\"ProsusAI/finbert\")"
   ]
  },
  {
   "cell_type": "code",
   "execution_count": 10,
   "id": "6a5d6253",
   "metadata": {},
   "outputs": [],
   "source": [
    "def apply_finbert(x):\n",
    "    inputs = tokenizer([x], padding = True, truncation = True, return_tensors='pt')\n",
    "    outputs = model(**inputs)\n",
    "    predictions = torch.nn.functional.softmax(outputs.logits, dim=1) \n",
    "    return predictions[:, 0].tolist()[0], predictions[:, 1].tolist()[0], predictions[:, 2].tolist()[0]"
   ]
  },
  {
   "cell_type": "code",
   "execution_count": 11,
   "id": "537e1d23",
   "metadata": {},
   "outputs": [],
   "source": [
    "input_df[['Positive','Negative','Neutral']] = (input_df['news'].apply(apply_finbert)).apply(pd.Series)"
   ]
  },
  {
   "cell_type": "code",
   "execution_count": 12,
   "id": "9c26f027",
   "metadata": {},
   "outputs": [
    {
     "data": {
      "text/html": [
       "<div>\n",
       "<style scoped>\n",
       "    .dataframe tbody tr th:only-of-type {\n",
       "        vertical-align: middle;\n",
       "    }\n",
       "\n",
       "    .dataframe tbody tr th {\n",
       "        vertical-align: top;\n",
       "    }\n",
       "\n",
       "    .dataframe thead th {\n",
       "        text-align: right;\n",
       "    }\n",
       "</style>\n",
       "<table border=\"1\" class=\"dataframe\">\n",
       "  <thead>\n",
       "    <tr style=\"text-align: right;\">\n",
       "      <th></th>\n",
       "      <th>date</th>\n",
       "      <th>news</th>\n",
       "      <th>final_manual_labelling</th>\n",
       "      <th>text_span</th>\n",
       "      <th>Positive</th>\n",
       "      <th>Negative</th>\n",
       "      <th>Neutral</th>\n",
       "    </tr>\n",
       "  </thead>\n",
       "  <tbody>\n",
       "    <tr>\n",
       "      <th>0</th>\n",
       "      <td>2022-01-25</td>\n",
       "      <td>Ripple announces stock buyback, nabs $15 billi...</td>\n",
       "      <td>1</td>\n",
       "      <td>{annotator1_id:22;annotator1_label:1; annotato...</td>\n",
       "      <td>0.098288</td>\n",
       "      <td>0.020569</td>\n",
       "      <td>0.881142</td>\n",
       "    </tr>\n",
       "    <tr>\n",
       "      <th>1</th>\n",
       "      <td>2022-01-25</td>\n",
       "      <td>IMF directors urge El Salvador to remove Bitco...</td>\n",
       "      <td>-1</td>\n",
       "      <td>{annotator1_id:16;annotator1_label:-1; annotat...</td>\n",
       "      <td>0.047823</td>\n",
       "      <td>0.162970</td>\n",
       "      <td>0.789207</td>\n",
       "    </tr>\n",
       "    <tr>\n",
       "      <th>2</th>\n",
       "      <td>2022-01-25</td>\n",
       "      <td>Dragonfly Capital is raising $500 million for ...</td>\n",
       "      <td>1</td>\n",
       "      <td>{annotator1_id:45;annotator1_label:1; annotato...</td>\n",
       "      <td>0.156997</td>\n",
       "      <td>0.008097</td>\n",
       "      <td>0.834906</td>\n",
       "    </tr>\n",
       "    <tr>\n",
       "      <th>3</th>\n",
       "      <td>2022-01-25</td>\n",
       "      <td>Rick and Morty co-creator collaborates with Pa...</td>\n",
       "      <td>0</td>\n",
       "      <td>{annotator1_id:32;annotator1_label:0; annotato...</td>\n",
       "      <td>0.055608</td>\n",
       "      <td>0.015489</td>\n",
       "      <td>0.928903</td>\n",
       "    </tr>\n",
       "    <tr>\n",
       "      <th>4</th>\n",
       "      <td>2022-01-25</td>\n",
       "      <td>How fintech SPACs lost their shine</td>\n",
       "      <td>0</td>\n",
       "      <td>{annotator1_id:48;annotator1_label:0; annotato...</td>\n",
       "      <td>0.039964</td>\n",
       "      <td>0.472789</td>\n",
       "      <td>0.487248</td>\n",
       "    </tr>\n",
       "    <tr>\n",
       "      <th>...</th>\n",
       "      <td>...</td>\n",
       "      <td>...</td>\n",
       "      <td>...</td>\n",
       "      <td>...</td>\n",
       "      <td>...</td>\n",
       "      <td>...</td>\n",
       "      <td>...</td>\n",
       "    </tr>\n",
       "    <tr>\n",
       "      <th>2678</th>\n",
       "      <td>2020-05-01</td>\n",
       "      <td>Gambling for a good cause  CryptoSlots donate...</td>\n",
       "      <td>1</td>\n",
       "      <td>{annotator1_id:80;annotator1_label:1; annotato...</td>\n",
       "      <td>0.178831</td>\n",
       "      <td>0.008580</td>\n",
       "      <td>0.812589</td>\n",
       "    </tr>\n",
       "    <tr>\n",
       "      <th>2679</th>\n",
       "      <td>2020-04-18</td>\n",
       "      <td>Litecoin, The Chinese Alternative to Bitcoin</td>\n",
       "      <td>0</td>\n",
       "      <td>{annotator1_id:10;annotator1_label:0; annotato...</td>\n",
       "      <td>0.105272</td>\n",
       "      <td>0.009314</td>\n",
       "      <td>0.885414</td>\n",
       "    </tr>\n",
       "    <tr>\n",
       "      <th>2680</th>\n",
       "      <td>2020-04-10</td>\n",
       "      <td>Do You Know What is Happening to Money?</td>\n",
       "      <td>0</td>\n",
       "      <td>{annotator1_id:32;annotator1_label:0; annotato...</td>\n",
       "      <td>0.027453</td>\n",
       "      <td>0.304318</td>\n",
       "      <td>0.668229</td>\n",
       "    </tr>\n",
       "    <tr>\n",
       "      <th>2681</th>\n",
       "      <td>2018-07-30</td>\n",
       "      <td>Download CoinMarketCal app on App Store</td>\n",
       "      <td>0</td>\n",
       "      <td>{annotator1_id:33;annotator1_label:0; annotato...</td>\n",
       "      <td>0.046135</td>\n",
       "      <td>0.015244</td>\n",
       "      <td>0.938621</td>\n",
       "    </tr>\n",
       "    <tr>\n",
       "      <th>2682</th>\n",
       "      <td>2018-07-30</td>\n",
       "      <td>Download CoinMarketCal app on Google Play</td>\n",
       "      <td>0</td>\n",
       "      <td>{annotator1_id:47;annotator1_label:0; annotato...</td>\n",
       "      <td>0.042141</td>\n",
       "      <td>0.017657</td>\n",
       "      <td>0.940202</td>\n",
       "    </tr>\n",
       "  </tbody>\n",
       "</table>\n",
       "<p>2683 rows × 7 columns</p>\n",
       "</div>"
      ],
      "text/plain": [
       "            date                                               news  \\\n",
       "0     2022-01-25  Ripple announces stock buyback, nabs $15 billi...   \n",
       "1     2022-01-25  IMF directors urge El Salvador to remove Bitco...   \n",
       "2     2022-01-25  Dragonfly Capital is raising $500 million for ...   \n",
       "3     2022-01-25  Rick and Morty co-creator collaborates with Pa...   \n",
       "4     2022-01-25                 How fintech SPACs lost their shine   \n",
       "...          ...                                                ...   \n",
       "2678  2020-05-01  Gambling for a good cause  CryptoSlots donate...   \n",
       "2679  2020-04-18       Litecoin, The Chinese Alternative to Bitcoin   \n",
       "2680  2020-04-10            Do You Know What is Happening to Money?   \n",
       "2681  2018-07-30            Download CoinMarketCal app on App Store   \n",
       "2682  2018-07-30          Download CoinMarketCal app on Google Play   \n",
       "\n",
       "      final_manual_labelling  \\\n",
       "0                          1   \n",
       "1                         -1   \n",
       "2                          1   \n",
       "3                          0   \n",
       "4                          0   \n",
       "...                      ...   \n",
       "2678                       1   \n",
       "2679                       0   \n",
       "2680                       0   \n",
       "2681                       0   \n",
       "2682                       0   \n",
       "\n",
       "                                              text_span  Positive  Negative  \\\n",
       "0     {annotator1_id:22;annotator1_label:1; annotato...  0.098288  0.020569   \n",
       "1     {annotator1_id:16;annotator1_label:-1; annotat...  0.047823  0.162970   \n",
       "2     {annotator1_id:45;annotator1_label:1; annotato...  0.156997  0.008097   \n",
       "3     {annotator1_id:32;annotator1_label:0; annotato...  0.055608  0.015489   \n",
       "4     {annotator1_id:48;annotator1_label:0; annotato...  0.039964  0.472789   \n",
       "...                                                 ...       ...       ...   \n",
       "2678  {annotator1_id:80;annotator1_label:1; annotato...  0.178831  0.008580   \n",
       "2679  {annotator1_id:10;annotator1_label:0; annotato...  0.105272  0.009314   \n",
       "2680  {annotator1_id:32;annotator1_label:0; annotato...  0.027453  0.304318   \n",
       "2681  {annotator1_id:33;annotator1_label:0; annotato...  0.046135  0.015244   \n",
       "2682  {annotator1_id:47;annotator1_label:0; annotato...  0.042141  0.017657   \n",
       "\n",
       "       Neutral  \n",
       "0     0.881142  \n",
       "1     0.789207  \n",
       "2     0.834906  \n",
       "3     0.928903  \n",
       "4     0.487248  \n",
       "...        ...  \n",
       "2678  0.812589  \n",
       "2679  0.885414  \n",
       "2680  0.668229  \n",
       "2681  0.938621  \n",
       "2682  0.940202  \n",
       "\n",
       "[2683 rows x 7 columns]"
      ]
     },
     "execution_count": 12,
     "metadata": {},
     "output_type": "execute_result"
    }
   ],
   "source": [
    "input_df"
   ]
  },
  {
   "cell_type": "code",
   "execution_count": 13,
   "id": "e9f49195",
   "metadata": {},
   "outputs": [
    {
     "data": {
      "text/plain": [
       " 1    419\n",
       " 0     95\n",
       "-1     11\n",
       "Name: final_manual_labelling, dtype: int64"
      ]
     },
     "execution_count": 13,
     "metadata": {},
     "output_type": "execute_result"
    }
   ],
   "source": [
    "input_df[input_df['Positive']>0.5]['final_manual_labelling'].value_counts()"
   ]
  },
  {
   "cell_type": "code",
   "execution_count": 14,
   "id": "6494f8e0",
   "metadata": {},
   "outputs": [
    {
     "data": {
      "text/plain": [
       "-1    202\n",
       " 0     73\n",
       " 1     32\n",
       "Name: final_manual_labelling, dtype: int64"
      ]
     },
     "execution_count": 14,
     "metadata": {},
     "output_type": "execute_result"
    }
   ],
   "source": [
    "input_df[input_df['Negative']>0.5]['final_manual_labelling'].value_counts()"
   ]
  },
  {
   "cell_type": "code",
   "execution_count": 15,
   "id": "ece13a41",
   "metadata": {},
   "outputs": [
    {
     "data": {
      "text/plain": [
       " 1    901\n",
       " 0    743\n",
       "-1    172\n",
       "Name: final_manual_labelling, dtype: int64"
      ]
     },
     "execution_count": 15,
     "metadata": {},
     "output_type": "execute_result"
    }
   ],
   "source": [
    "input_df[input_df['Neutral']>0.5]['final_manual_labelling'].value_counts()"
   ]
  },
  {
   "cell_type": "code",
   "execution_count": 16,
   "id": "4b2a879c",
   "metadata": {},
   "outputs": [],
   "source": [
    "def calculate_result(df):\n",
    "    largo = df.shape[0]\n",
    "    result = []\n",
    "    for i in range(0,largo):\n",
    "        if df.iloc[i]['Positive']>0.5:\n",
    "            result.append(1)\n",
    "        elif df.iloc[i]['Negative']>0.5:\n",
    "            result.append(-1)\n",
    "        elif df.iloc[i]['Neutral']>0.5:\n",
    "            result.append(0)\n",
    "        elif df.iloc[i]['Neutral']>df.iloc[i]['Positive'] and df.iloc[i]['Neutral']>df.iloc[i]['Negative']:\n",
    "            result.append(0)\n",
    "        elif df.iloc[i]['Positive']>df.iloc[i]['Neutral'] and df.iloc[i]['Positive']>df.iloc[i]['Negative']:\n",
    "            result.append(1)\n",
    "        else:\n",
    "            result.append(-1)\n",
    "\n",
    "    df['result']=result\n",
    "    return df"
   ]
  },
  {
   "cell_type": "code",
   "execution_count": 17,
   "id": "c496e4e7",
   "metadata": {},
   "outputs": [],
   "source": [
    "non_trained_result = calculate_result(input_df)"
   ]
  },
  {
   "cell_type": "code",
   "execution_count": 18,
   "id": "1eacf5ff",
   "metadata": {},
   "outputs": [
    {
     "data": {
      "text/html": [
       "<div>\n",
       "<style scoped>\n",
       "    .dataframe tbody tr th:only-of-type {\n",
       "        vertical-align: middle;\n",
       "    }\n",
       "\n",
       "    .dataframe tbody tr th {\n",
       "        vertical-align: top;\n",
       "    }\n",
       "\n",
       "    .dataframe thead th {\n",
       "        text-align: right;\n",
       "    }\n",
       "</style>\n",
       "<table border=\"1\" class=\"dataframe\">\n",
       "  <thead>\n",
       "    <tr style=\"text-align: right;\">\n",
       "      <th></th>\n",
       "      <th>date</th>\n",
       "      <th>news</th>\n",
       "      <th>final_manual_labelling</th>\n",
       "      <th>text_span</th>\n",
       "      <th>Positive</th>\n",
       "      <th>Negative</th>\n",
       "      <th>Neutral</th>\n",
       "      <th>result</th>\n",
       "    </tr>\n",
       "  </thead>\n",
       "  <tbody>\n",
       "    <tr>\n",
       "      <th>0</th>\n",
       "      <td>2022-01-25</td>\n",
       "      <td>Ripple announces stock buyback, nabs $15 billi...</td>\n",
       "      <td>1</td>\n",
       "      <td>{annotator1_id:22;annotator1_label:1; annotato...</td>\n",
       "      <td>0.098288</td>\n",
       "      <td>0.020569</td>\n",
       "      <td>0.881142</td>\n",
       "      <td>0</td>\n",
       "    </tr>\n",
       "    <tr>\n",
       "      <th>1</th>\n",
       "      <td>2022-01-25</td>\n",
       "      <td>IMF directors urge El Salvador to remove Bitco...</td>\n",
       "      <td>-1</td>\n",
       "      <td>{annotator1_id:16;annotator1_label:-1; annotat...</td>\n",
       "      <td>0.047823</td>\n",
       "      <td>0.162970</td>\n",
       "      <td>0.789207</td>\n",
       "      <td>0</td>\n",
       "    </tr>\n",
       "    <tr>\n",
       "      <th>2</th>\n",
       "      <td>2022-01-25</td>\n",
       "      <td>Dragonfly Capital is raising $500 million for ...</td>\n",
       "      <td>1</td>\n",
       "      <td>{annotator1_id:45;annotator1_label:1; annotato...</td>\n",
       "      <td>0.156997</td>\n",
       "      <td>0.008097</td>\n",
       "      <td>0.834906</td>\n",
       "      <td>0</td>\n",
       "    </tr>\n",
       "    <tr>\n",
       "      <th>3</th>\n",
       "      <td>2022-01-25</td>\n",
       "      <td>Rick and Morty co-creator collaborates with Pa...</td>\n",
       "      <td>0</td>\n",
       "      <td>{annotator1_id:32;annotator1_label:0; annotato...</td>\n",
       "      <td>0.055608</td>\n",
       "      <td>0.015489</td>\n",
       "      <td>0.928903</td>\n",
       "      <td>0</td>\n",
       "    </tr>\n",
       "    <tr>\n",
       "      <th>4</th>\n",
       "      <td>2022-01-25</td>\n",
       "      <td>How fintech SPACs lost their shine</td>\n",
       "      <td>0</td>\n",
       "      <td>{annotator1_id:48;annotator1_label:0; annotato...</td>\n",
       "      <td>0.039964</td>\n",
       "      <td>0.472789</td>\n",
       "      <td>0.487248</td>\n",
       "      <td>0</td>\n",
       "    </tr>\n",
       "    <tr>\n",
       "      <th>5</th>\n",
       "      <td>2022-01-25</td>\n",
       "      <td>Multichain vulnerability put a billion dollars...</td>\n",
       "      <td>-1</td>\n",
       "      <td>{annotator1_id:77;annotator1_label:-1; annotat...</td>\n",
       "      <td>0.101357</td>\n",
       "      <td>0.194968</td>\n",
       "      <td>0.703675</td>\n",
       "      <td>0</td>\n",
       "    </tr>\n",
       "    <tr>\n",
       "      <th>6</th>\n",
       "      <td>2022-01-25</td>\n",
       "      <td>YouTube wants to help content creators capital...</td>\n",
       "      <td>0</td>\n",
       "      <td>{annotator1_id:52;annotator1_label:0; annotato...</td>\n",
       "      <td>0.475625</td>\n",
       "      <td>0.007213</td>\n",
       "      <td>0.517162</td>\n",
       "      <td>0</td>\n",
       "    </tr>\n",
       "    <tr>\n",
       "      <th>7</th>\n",
       "      <td>2022-01-25</td>\n",
       "      <td>OpenSea is reimbursing users who sold NFTs bel...</td>\n",
       "      <td>0</td>\n",
       "      <td>{annotator1_id:10;annotator1_label:0; annotato...</td>\n",
       "      <td>0.011183</td>\n",
       "      <td>0.952579</td>\n",
       "      <td>0.036238</td>\n",
       "      <td>-1</td>\n",
       "    </tr>\n",
       "    <tr>\n",
       "      <th>8</th>\n",
       "      <td>2022-01-25</td>\n",
       "      <td>GoodDollar Launches Key Protocol Upgrade to Ex...</td>\n",
       "      <td>1</td>\n",
       "      <td>{annotator1_id:22;annotator1_label:1; annotato...</td>\n",
       "      <td>0.853261</td>\n",
       "      <td>0.009177</td>\n",
       "      <td>0.137562</td>\n",
       "      <td>1</td>\n",
       "    </tr>\n",
       "    <tr>\n",
       "      <th>9</th>\n",
       "      <td>2022-01-25</td>\n",
       "      <td>BCB Group raises a $60 million Series A round ...</td>\n",
       "      <td>1</td>\n",
       "      <td>{annotator1_id:43;annotator1_label:1; annotato...</td>\n",
       "      <td>0.218266</td>\n",
       "      <td>0.010609</td>\n",
       "      <td>0.771125</td>\n",
       "      <td>0</td>\n",
       "    </tr>\n",
       "  </tbody>\n",
       "</table>\n",
       "</div>"
      ],
      "text/plain": [
       "         date                                               news  \\\n",
       "0  2022-01-25  Ripple announces stock buyback, nabs $15 billi...   \n",
       "1  2022-01-25  IMF directors urge El Salvador to remove Bitco...   \n",
       "2  2022-01-25  Dragonfly Capital is raising $500 million for ...   \n",
       "3  2022-01-25  Rick and Morty co-creator collaborates with Pa...   \n",
       "4  2022-01-25                 How fintech SPACs lost their shine   \n",
       "5  2022-01-25  Multichain vulnerability put a billion dollars...   \n",
       "6  2022-01-25  YouTube wants to help content creators capital...   \n",
       "7  2022-01-25  OpenSea is reimbursing users who sold NFTs bel...   \n",
       "8  2022-01-25  GoodDollar Launches Key Protocol Upgrade to Ex...   \n",
       "9  2022-01-25  BCB Group raises a $60 million Series A round ...   \n",
       "\n",
       "   final_manual_labelling                                          text_span  \\\n",
       "0                       1  {annotator1_id:22;annotator1_label:1; annotato...   \n",
       "1                      -1  {annotator1_id:16;annotator1_label:-1; annotat...   \n",
       "2                       1  {annotator1_id:45;annotator1_label:1; annotato...   \n",
       "3                       0  {annotator1_id:32;annotator1_label:0; annotato...   \n",
       "4                       0  {annotator1_id:48;annotator1_label:0; annotato...   \n",
       "5                      -1  {annotator1_id:77;annotator1_label:-1; annotat...   \n",
       "6                       0  {annotator1_id:52;annotator1_label:0; annotato...   \n",
       "7                       0  {annotator1_id:10;annotator1_label:0; annotato...   \n",
       "8                       1  {annotator1_id:22;annotator1_label:1; annotato...   \n",
       "9                       1  {annotator1_id:43;annotator1_label:1; annotato...   \n",
       "\n",
       "   Positive  Negative   Neutral  result  \n",
       "0  0.098288  0.020569  0.881142       0  \n",
       "1  0.047823  0.162970  0.789207       0  \n",
       "2  0.156997  0.008097  0.834906       0  \n",
       "3  0.055608  0.015489  0.928903       0  \n",
       "4  0.039964  0.472789  0.487248       0  \n",
       "5  0.101357  0.194968  0.703675       0  \n",
       "6  0.475625  0.007213  0.517162       0  \n",
       "7  0.011183  0.952579  0.036238      -1  \n",
       "8  0.853261  0.009177  0.137562       1  \n",
       "9  0.218266  0.010609  0.771125       0  "
      ]
     },
     "execution_count": 18,
     "metadata": {},
     "output_type": "execute_result"
    }
   ],
   "source": [
    "non_trained_result.head(10)"
   ]
  },
  {
   "cell_type": "code",
   "execution_count": 19,
   "id": "d37de1f5",
   "metadata": {},
   "outputs": [
    {
     "data": {
      "text/plain": [
       "0.5143496086470369"
      ]
     },
     "execution_count": 19,
     "metadata": {},
     "output_type": "execute_result"
    }
   ],
   "source": [
    "#The accuracy with the original FinBERT:\n",
    "accuracy_score(y_true=non_trained_result['final_manual_labelling'], y_pred=non_trained_result['result'])"
   ]
  },
  {
   "cell_type": "markdown",
   "id": "4ae4528c",
   "metadata": {},
   "source": [
    "## Retraining Finbert"
   ]
  },
  {
   "cell_type": "code",
   "execution_count": 20,
   "id": "6966b305",
   "metadata": {},
   "outputs": [],
   "source": [
    "df = input_df[['news','final_manual_labelling']]"
   ]
  },
  {
   "cell_type": "code",
   "execution_count": 21,
   "id": "7b623111",
   "metadata": {},
   "outputs": [
    {
     "data": {
      "text/html": [
       "<div>\n",
       "<style scoped>\n",
       "    .dataframe tbody tr th:only-of-type {\n",
       "        vertical-align: middle;\n",
       "    }\n",
       "\n",
       "    .dataframe tbody tr th {\n",
       "        vertical-align: top;\n",
       "    }\n",
       "\n",
       "    .dataframe thead th {\n",
       "        text-align: right;\n",
       "    }\n",
       "</style>\n",
       "<table border=\"1\" class=\"dataframe\">\n",
       "  <thead>\n",
       "    <tr style=\"text-align: right;\">\n",
       "      <th></th>\n",
       "      <th>news</th>\n",
       "      <th>final_manual_labelling</th>\n",
       "    </tr>\n",
       "  </thead>\n",
       "  <tbody>\n",
       "    <tr>\n",
       "      <th>0</th>\n",
       "      <td>Ripple announces stock buyback, nabs $15 billi...</td>\n",
       "      <td>1</td>\n",
       "    </tr>\n",
       "    <tr>\n",
       "      <th>1</th>\n",
       "      <td>IMF directors urge El Salvador to remove Bitco...</td>\n",
       "      <td>-1</td>\n",
       "    </tr>\n",
       "    <tr>\n",
       "      <th>2</th>\n",
       "      <td>Dragonfly Capital is raising $500 million for ...</td>\n",
       "      <td>1</td>\n",
       "    </tr>\n",
       "    <tr>\n",
       "      <th>3</th>\n",
       "      <td>Rick and Morty co-creator collaborates with Pa...</td>\n",
       "      <td>0</td>\n",
       "    </tr>\n",
       "    <tr>\n",
       "      <th>4</th>\n",
       "      <td>How fintech SPACs lost their shine</td>\n",
       "      <td>0</td>\n",
       "    </tr>\n",
       "  </tbody>\n",
       "</table>\n",
       "</div>"
      ],
      "text/plain": [
       "                                                news  final_manual_labelling\n",
       "0  Ripple announces stock buyback, nabs $15 billi...                       1\n",
       "1  IMF directors urge El Salvador to remove Bitco...                      -1\n",
       "2  Dragonfly Capital is raising $500 million for ...                       1\n",
       "3  Rick and Morty co-creator collaborates with Pa...                       0\n",
       "4                 How fintech SPACs lost their shine                       0"
      ]
     },
     "execution_count": 21,
     "metadata": {},
     "output_type": "execute_result"
    }
   ],
   "source": [
    "df.head()"
   ]
  },
  {
   "cell_type": "code",
   "execution_count": 22,
   "id": "bdc4e3d1",
   "metadata": {},
   "outputs": [
    {
     "data": {
      "text/html": [
       "<div>\n",
       "<style scoped>\n",
       "    .dataframe tbody tr th:only-of-type {\n",
       "        vertical-align: middle;\n",
       "    }\n",
       "\n",
       "    .dataframe tbody tr th {\n",
       "        vertical-align: top;\n",
       "    }\n",
       "\n",
       "    .dataframe thead th {\n",
       "        text-align: right;\n",
       "    }\n",
       "</style>\n",
       "<table border=\"1\" class=\"dataframe\">\n",
       "  <thead>\n",
       "    <tr style=\"text-align: right;\">\n",
       "      <th></th>\n",
       "      <th>news</th>\n",
       "      <th>labels</th>\n",
       "    </tr>\n",
       "  </thead>\n",
       "  <tbody>\n",
       "    <tr>\n",
       "      <th>0</th>\n",
       "      <td>Ripple announces stock buyback, nabs $15 billi...</td>\n",
       "      <td>1</td>\n",
       "    </tr>\n",
       "    <tr>\n",
       "      <th>1</th>\n",
       "      <td>IMF directors urge El Salvador to remove Bitco...</td>\n",
       "      <td>-1</td>\n",
       "    </tr>\n",
       "    <tr>\n",
       "      <th>2</th>\n",
       "      <td>Dragonfly Capital is raising $500 million for ...</td>\n",
       "      <td>1</td>\n",
       "    </tr>\n",
       "    <tr>\n",
       "      <th>3</th>\n",
       "      <td>Rick and Morty co-creator collaborates with Pa...</td>\n",
       "      <td>0</td>\n",
       "    </tr>\n",
       "    <tr>\n",
       "      <th>4</th>\n",
       "      <td>How fintech SPACs lost their shine</td>\n",
       "      <td>0</td>\n",
       "    </tr>\n",
       "  </tbody>\n",
       "</table>\n",
       "</div>"
      ],
      "text/plain": [
       "                                                news  labels\n",
       "0  Ripple announces stock buyback, nabs $15 billi...       1\n",
       "1  IMF directors urge El Salvador to remove Bitco...      -1\n",
       "2  Dragonfly Capital is raising $500 million for ...       1\n",
       "3  Rick and Morty co-creator collaborates with Pa...       0\n",
       "4                 How fintech SPACs lost their shine       0"
      ]
     },
     "execution_count": 22,
     "metadata": {},
     "output_type": "execute_result"
    }
   ],
   "source": [
    "df.columns = ['news','labels']\n",
    "df.head()"
   ]
  },
  {
   "cell_type": "code",
   "execution_count": 23,
   "id": "ce218ce0",
   "metadata": {},
   "outputs": [],
   "source": [
    "#Giving a +1 offset to the target variable:\n",
    "df['labels'].replace({1:2},inplace=True)\n",
    "df['labels'].replace({0:1},inplace=True)\n",
    "df['labels'].replace({-1:0},inplace=True)"
   ]
  },
  {
   "cell_type": "code",
   "execution_count": 24,
   "id": "08baa605",
   "metadata": {},
   "outputs": [
    {
     "data": {
      "text/plain": [
       "2    1366\n",
       "1     921\n",
       "0     396\n",
       "Name: labels, dtype: int64"
      ]
     },
     "execution_count": 24,
     "metadata": {},
     "output_type": "execute_result"
    }
   ],
   "source": [
    "df['labels'].value_counts()"
   ]
  },
  {
   "cell_type": "code",
   "execution_count": 25,
   "id": "6aa8f78f",
   "metadata": {},
   "outputs": [],
   "source": [
    "from sklearn.model_selection import train_test_split\n",
    "from sklearn.metrics import accuracy_score, recall_score, precision_score, f1_score\n",
    "import torch\n",
    "from transformers import TrainingArguments, Trainer\n",
    "from transformers import BertTokenizer, BertForSequenceClassification\n",
    "from transformers import EarlyStoppingCallback\n",
    "import numpy as np"
   ]
  },
  {
   "cell_type": "code",
   "execution_count": 26,
   "id": "4ea1d8f2",
   "metadata": {},
   "outputs": [],
   "source": [
    "# Preprocess data\n",
    "X = list(df[\"news\"])\n",
    "y = list(df[\"labels\"])\n",
    "X_train, X_val, y_train, y_val = train_test_split(X, y, test_size=0.2)\n",
    "X_val_2, X_test, y_val_2, y_test = train_test_split(X_val, y_val, test_size=0.2)\n",
    "X_train_tokenized = tokenizer(X_train, padding=True, truncation=True, max_length=512)\n",
    "X_val_tokenized = tokenizer(X_val_2, padding=True, truncation=True, max_length=512)\n",
    "X_test_tokenized = tokenizer(X_test, padding=True, truncation=True, max_length=512)"
   ]
  },
  {
   "cell_type": "code",
   "execution_count": 27,
   "id": "65989857",
   "metadata": {},
   "outputs": [],
   "source": [
    "# Create torch dataset\n",
    "class Dataset(torch.utils.data.Dataset):\n",
    "    def __init__(self, encodings, labels=None):\n",
    "        self.encodings = encodings\n",
    "        self.labels = labels\n",
    "\n",
    "    def __getitem__(self, idx):\n",
    "        item = {key: torch.tensor(val[idx]) for key, val in self.encodings.items()}\n",
    "        if self.labels:\n",
    "            item[\"labels\"] = torch.tensor(self.labels[idx])\n",
    "        return item\n",
    "\n",
    "    def __len__(self):\n",
    "        return len(self.encodings[\"input_ids\"])"
   ]
  },
  {
   "cell_type": "code",
   "execution_count": 28,
   "id": "9276b115",
   "metadata": {},
   "outputs": [],
   "source": [
    "train_dataset = Dataset(X_train_tokenized, y_train)\n",
    "val_dataset = Dataset(X_val_tokenized, y_val)"
   ]
  },
  {
   "cell_type": "code",
   "execution_count": 29,
   "id": "633be285",
   "metadata": {},
   "outputs": [],
   "source": [
    "# Define Trainer parameters\n",
    "def compute_metrics(p):\n",
    "    pred, labels = p\n",
    "    pred = np.argmax(pred, axis=1)\n",
    "\n",
    "    accuracy = accuracy_score(y_true=labels, y_pred=pred)\n",
    "    #recall = recall_score(y_true=labels, y_pred=pred,'weighted')\n",
    "    #precision = precision_score(y_true=labels, y_pred=pred)\n",
    "    #f1 = f1_score(y_true=labels, y_pred=pred)\n",
    "    \n",
    "    return {\"accuracy\": accuracy}#, \"precision\": precision, \"recall\": recall, \"f1\": f1}"
   ]
  },
  {
   "cell_type": "code",
   "execution_count": 30,
   "id": "55c57c68",
   "metadata": {},
   "outputs": [],
   "source": [
    "# Define Trainer\n",
    "args = TrainingArguments(\n",
    "    output_dir=\"first_test\",\n",
    "    evaluation_strategy=\"steps\",\n",
    "    eval_steps=500,\n",
    "    per_device_train_batch_size=8,\n",
    "    per_device_eval_batch_size=8,\n",
    "    num_train_epochs=4,\n",
    "    seed=0,\n",
    "    load_best_model_at_end=True,\n",
    ")"
   ]
  },
  {
   "cell_type": "code",
   "execution_count": 31,
   "id": "dc431899",
   "metadata": {},
   "outputs": [],
   "source": [
    "trainer = Trainer(\n",
    "    model=model,\n",
    "    args=args,\n",
    "    train_dataset=train_dataset,\n",
    "    eval_dataset=val_dataset,\n",
    "    compute_metrics=compute_metrics,\n",
    "    callbacks=[EarlyStoppingCallback(early_stopping_patience=3)],\n",
    ")"
   ]
  },
  {
   "cell_type": "code",
   "execution_count": 32,
   "id": "c6690931",
   "metadata": {},
   "outputs": [
    {
     "name": "stderr",
     "output_type": "stream",
     "text": [
      "***** Running training *****\n",
      "  Num examples = 2146\n",
      "  Num Epochs = 4\n",
      "  Instantaneous batch size per device = 8\n",
      "  Total train batch size (w. parallel, distributed & accumulation) = 8\n",
      "  Gradient Accumulation steps = 1\n",
      "  Total optimization steps = 1076\n"
     ]
    },
    {
     "data": {
      "text/html": [
       "\n",
       "    <div>\n",
       "      \n",
       "      <progress value='1076' max='1076' style='width:300px; height:20px; vertical-align: middle;'></progress>\n",
       "      [1076/1076 50:34, Epoch 4/4]\n",
       "    </div>\n",
       "    <table border=\"1\" class=\"dataframe\">\n",
       "  <thead>\n",
       " <tr style=\"text-align: left;\">\n",
       "      <th>Step</th>\n",
       "      <th>Training Loss</th>\n",
       "      <th>Validation Loss</th>\n",
       "      <th>Accuracy</th>\n",
       "    </tr>\n",
       "  </thead>\n",
       "  <tbody>\n",
       "    <tr>\n",
       "      <td>500</td>\n",
       "      <td>0.665300</td>\n",
       "      <td>1.974498</td>\n",
       "      <td>0.372960</td>\n",
       "    </tr>\n",
       "    <tr>\n",
       "      <td>1000</td>\n",
       "      <td>0.260700</td>\n",
       "      <td>3.483169</td>\n",
       "      <td>0.358974</td>\n",
       "    </tr>\n",
       "  </tbody>\n",
       "</table><p>"
      ],
      "text/plain": [
       "<IPython.core.display.HTML object>"
      ]
     },
     "metadata": {},
     "output_type": "display_data"
    },
    {
     "name": "stderr",
     "output_type": "stream",
     "text": [
      "***** Running Evaluation *****\n",
      "  Num examples = 429\n",
      "  Batch size = 8\n",
      "Saving model checkpoint to first_test/checkpoint-500\n",
      "Configuration saved in first_test/checkpoint-500/config.json\n",
      "Model weights saved in first_test/checkpoint-500/pytorch_model.bin\n",
      "***** Running Evaluation *****\n",
      "  Num examples = 429\n",
      "  Batch size = 8\n",
      "Saving model checkpoint to first_test/checkpoint-1000\n",
      "Configuration saved in first_test/checkpoint-1000/config.json\n",
      "Model weights saved in first_test/checkpoint-1000/pytorch_model.bin\n",
      "\n",
      "\n",
      "Training completed. Do not forget to share your model on huggingface.co/models =)\n",
      "\n",
      "\n",
      "Loading best model from first_test/checkpoint-500 (score: 1.9744975566864014).\n"
     ]
    },
    {
     "data": {
      "text/plain": [
       "TrainOutput(global_step=1076, training_loss=0.44057233094282755, metrics={'train_runtime': 3038.0404, 'train_samples_per_second': 2.826, 'train_steps_per_second': 0.354, 'total_flos': 185272957552032.0, 'train_loss': 0.44057233094282755, 'epoch': 4.0})"
      ]
     },
     "execution_count": 32,
     "metadata": {},
     "output_type": "execute_result"
    }
   ],
   "source": [
    "# Train pre-trained model\n",
    "trainer.train()"
   ]
  },
  {
   "cell_type": "code",
   "execution_count": 33,
   "id": "677080c1",
   "metadata": {},
   "outputs": [],
   "source": [
    "# ----- 3. Predicting -----#\n",
    "# Create torch dataset\n",
    "test_dataset = Dataset(X_test_tokenized, y_test)"
   ]
  },
  {
   "cell_type": "code",
   "execution_count": 34,
   "id": "329092ba",
   "metadata": {},
   "outputs": [
    {
     "name": "stderr",
     "output_type": "stream",
     "text": [
      "loading configuration file first_test/checkpoint-500/config.json\n",
      "Model config BertConfig {\n",
      "  \"_name_or_path\": \"ProsusAI/finbert\",\n",
      "  \"architectures\": [\n",
      "    \"BertForSequenceClassification\"\n",
      "  ],\n",
      "  \"attention_probs_dropout_prob\": 0.1,\n",
      "  \"classifier_dropout\": null,\n",
      "  \"gradient_checkpointing\": false,\n",
      "  \"hidden_act\": \"gelu\",\n",
      "  \"hidden_dropout_prob\": 0.1,\n",
      "  \"hidden_size\": 768,\n",
      "  \"id2label\": {\n",
      "    \"0\": \"positive\",\n",
      "    \"1\": \"negative\",\n",
      "    \"2\": \"neutral\"\n",
      "  },\n",
      "  \"initializer_range\": 0.02,\n",
      "  \"intermediate_size\": 3072,\n",
      "  \"label2id\": {\n",
      "    \"negative\": 1,\n",
      "    \"neutral\": 2,\n",
      "    \"positive\": 0\n",
      "  },\n",
      "  \"layer_norm_eps\": 1e-12,\n",
      "  \"max_position_embeddings\": 512,\n",
      "  \"model_type\": \"bert\",\n",
      "  \"num_attention_heads\": 12,\n",
      "  \"num_hidden_layers\": 12,\n",
      "  \"pad_token_id\": 0,\n",
      "  \"position_embedding_type\": \"absolute\",\n",
      "  \"problem_type\": \"single_label_classification\",\n",
      "  \"torch_dtype\": \"float32\",\n",
      "  \"transformers_version\": \"4.20.0\",\n",
      "  \"type_vocab_size\": 2,\n",
      "  \"use_cache\": true,\n",
      "  \"vocab_size\": 30522\n",
      "}\n",
      "\n",
      "loading weights file first_test/checkpoint-500/pytorch_model.bin\n",
      "All model checkpoint weights were used when initializing BertForSequenceClassification.\n",
      "\n",
      "All the weights of BertForSequenceClassification were initialized from the model checkpoint at first_test/checkpoint-500.\n",
      "If your task is similar to the task the model of the checkpoint was trained on, you can already use BertForSequenceClassification for predictions without further training.\n"
     ]
    }
   ],
   "source": [
    "# Load trained model\n",
    "model_path = \"first_test/checkpoint-500\"\n",
    "model = BertForSequenceClassification.from_pretrained(model_path, num_labels=3)"
   ]
  },
  {
   "cell_type": "code",
   "execution_count": 35,
   "id": "9c5c14cf",
   "metadata": {},
   "outputs": [
    {
     "name": "stderr",
     "output_type": "stream",
     "text": [
      "No `TrainingArguments` passed, using `output_dir=tmp_trainer`.\n",
      "PyTorch: setting up devices\n",
      "The default value for the training argument `--report_to` will change in v5 (from all installed integrations to none). In v5, you will need to use `--report_to all` to get the same behavior as now. You should start updating your code and make this info disappear :-).\n"
     ]
    }
   ],
   "source": [
    "# Define test trainer\n",
    "test_trainer = Trainer(model)"
   ]
  },
  {
   "cell_type": "code",
   "execution_count": 36,
   "id": "56e31808",
   "metadata": {},
   "outputs": [
    {
     "name": "stderr",
     "output_type": "stream",
     "text": [
      "***** Running Prediction *****\n",
      "  Num examples = 108\n",
      "  Batch size = 8\n"
     ]
    },
    {
     "data": {
      "text/html": [
       "\n",
       "    <div>\n",
       "      \n",
       "      <progress value='14' max='14' style='width:300px; height:20px; vertical-align: middle;'></progress>\n",
       "      [14/14 00:05]\n",
       "    </div>\n",
       "    "
      ],
      "text/plain": [
       "<IPython.core.display.HTML object>"
      ]
     },
     "metadata": {},
     "output_type": "display_data"
    }
   ],
   "source": [
    " #Make prediction\n",
    "raw_pred, _, _ = test_trainer.predict(test_dataset)"
   ]
  },
  {
   "cell_type": "code",
   "execution_count": 37,
   "id": "4814502d",
   "metadata": {},
   "outputs": [],
   "source": [
    "# Preprocess raw predictions\n",
    "y_pred = np.argmax(raw_pred, axis=1)"
   ]
  },
  {
   "cell_type": "code",
   "execution_count": 38,
   "id": "4d81f138",
   "metadata": {},
   "outputs": [
    {
     "data": {
      "text/plain": [
       "0.6944444444444444"
      ]
     },
     "execution_count": 38,
     "metadata": {},
     "output_type": "execute_result"
    }
   ],
   "source": [
    "#The accuracy with the re-trained FinBERT:\n",
    "accuracy_score(y_true=y_test, y_pred=y_pred)"
   ]
  },
  {
   "cell_type": "code",
   "execution_count": 39,
   "id": "f6550068",
   "metadata": {},
   "outputs": [],
   "source": [
    "#The accuracy of the original finbert:\n",
    "X_test_df = pd.DataFrame()\n",
    "X_test_df['news']=X_test\n",
    "X_test_df['labels']=y_test"
   ]
  },
  {
   "cell_type": "code",
   "execution_count": 40,
   "id": "b7b6615b",
   "metadata": {},
   "outputs": [
    {
     "data": {
      "text/html": [
       "<div>\n",
       "<style scoped>\n",
       "    .dataframe tbody tr th:only-of-type {\n",
       "        vertical-align: middle;\n",
       "    }\n",
       "\n",
       "    .dataframe tbody tr th {\n",
       "        vertical-align: top;\n",
       "    }\n",
       "\n",
       "    .dataframe thead th {\n",
       "        text-align: right;\n",
       "    }\n",
       "</style>\n",
       "<table border=\"1\" class=\"dataframe\">\n",
       "  <thead>\n",
       "    <tr style=\"text-align: right;\">\n",
       "      <th></th>\n",
       "      <th>news</th>\n",
       "      <th>labels</th>\n",
       "    </tr>\n",
       "  </thead>\n",
       "  <tbody>\n",
       "    <tr>\n",
       "      <th>0</th>\n",
       "      <td>PayPal ups weekly limit on crypto purchases to...</td>\n",
       "      <td>2</td>\n",
       "    </tr>\n",
       "    <tr>\n",
       "      <th>1</th>\n",
       "      <td>Bitcoin climbs more than 10% following an ext...</td>\n",
       "      <td>2</td>\n",
       "    </tr>\n",
       "    <tr>\n",
       "      <th>2</th>\n",
       "      <td>Russian crypto ban proposal draws denunciation...</td>\n",
       "      <td>0</td>\n",
       "    </tr>\n",
       "    <tr>\n",
       "      <th>3</th>\n",
       "      <td>At least $611 million stolen in massive cross-...</td>\n",
       "      <td>0</td>\n",
       "    </tr>\n",
       "    <tr>\n",
       "      <th>4</th>\n",
       "      <td>Shenzhen-listed ICT firm to spend up to $155 m...</td>\n",
       "      <td>2</td>\n",
       "    </tr>\n",
       "  </tbody>\n",
       "</table>\n",
       "</div>"
      ],
      "text/plain": [
       "                                                news  labels\n",
       "0  PayPal ups weekly limit on crypto purchases to...       2\n",
       "1  Bitcoin climbs more than 10% following an ext...       2\n",
       "2  Russian crypto ban proposal draws denunciation...       0\n",
       "3  At least $611 million stolen in massive cross-...       0\n",
       "4  Shenzhen-listed ICT firm to spend up to $155 m...       2"
      ]
     },
     "execution_count": 40,
     "metadata": {},
     "output_type": "execute_result"
    }
   ],
   "source": [
    "X_test_df.head()"
   ]
  },
  {
   "cell_type": "code",
   "execution_count": 41,
   "id": "25cdb258",
   "metadata": {},
   "outputs": [
    {
     "data": {
      "text/plain": [
       "(108, 2)"
      ]
     },
     "execution_count": 41,
     "metadata": {},
     "output_type": "execute_result"
    }
   ],
   "source": [
    "X_test_df.shape"
   ]
  },
  {
   "cell_type": "code",
   "execution_count": 42,
   "id": "627effa6",
   "metadata": {},
   "outputs": [],
   "source": [
    "X_test_df['labels'].replace({0:-1},inplace=True)\n",
    "X_test_df['labels'].replace({1:0},inplace=True)\n",
    "X_test_df['labels'].replace({2:1},inplace=True)"
   ]
  },
  {
   "cell_type": "code",
   "execution_count": 43,
   "id": "f968bc77",
   "metadata": {},
   "outputs": [
    {
     "data": {
      "text/html": [
       "<div>\n",
       "<style scoped>\n",
       "    .dataframe tbody tr th:only-of-type {\n",
       "        vertical-align: middle;\n",
       "    }\n",
       "\n",
       "    .dataframe tbody tr th {\n",
       "        vertical-align: top;\n",
       "    }\n",
       "\n",
       "    .dataframe thead th {\n",
       "        text-align: right;\n",
       "    }\n",
       "</style>\n",
       "<table border=\"1\" class=\"dataframe\">\n",
       "  <thead>\n",
       "    <tr style=\"text-align: right;\">\n",
       "      <th></th>\n",
       "      <th>news</th>\n",
       "      <th>labels</th>\n",
       "    </tr>\n",
       "  </thead>\n",
       "  <tbody>\n",
       "    <tr>\n",
       "      <th>0</th>\n",
       "      <td>PayPal ups weekly limit on crypto purchases to...</td>\n",
       "      <td>1</td>\n",
       "    </tr>\n",
       "    <tr>\n",
       "      <th>1</th>\n",
       "      <td>Bitcoin climbs more than 10% following an ext...</td>\n",
       "      <td>1</td>\n",
       "    </tr>\n",
       "    <tr>\n",
       "      <th>2</th>\n",
       "      <td>Russian crypto ban proposal draws denunciation...</td>\n",
       "      <td>-1</td>\n",
       "    </tr>\n",
       "    <tr>\n",
       "      <th>3</th>\n",
       "      <td>At least $611 million stolen in massive cross-...</td>\n",
       "      <td>-1</td>\n",
       "    </tr>\n",
       "    <tr>\n",
       "      <th>4</th>\n",
       "      <td>Shenzhen-listed ICT firm to spend up to $155 m...</td>\n",
       "      <td>1</td>\n",
       "    </tr>\n",
       "  </tbody>\n",
       "</table>\n",
       "</div>"
      ],
      "text/plain": [
       "                                                news  labels\n",
       "0  PayPal ups weekly limit on crypto purchases to...       1\n",
       "1  Bitcoin climbs more than 10% following an ext...       1\n",
       "2  Russian crypto ban proposal draws denunciation...      -1\n",
       "3  At least $611 million stolen in massive cross-...      -1\n",
       "4  Shenzhen-listed ICT firm to spend up to $155 m...       1"
      ]
     },
     "execution_count": 43,
     "metadata": {},
     "output_type": "execute_result"
    }
   ],
   "source": [
    "X_test_df.head()"
   ]
  },
  {
   "cell_type": "code",
   "execution_count": 44,
   "id": "16929d9f",
   "metadata": {},
   "outputs": [],
   "source": [
    "X_test_df[['Positive','Negative','Neutral']] = (X_test_df['news'].apply(apply_finbert)).apply(pd.Series)"
   ]
  },
  {
   "cell_type": "code",
   "execution_count": 45,
   "id": "f0ee5731",
   "metadata": {},
   "outputs": [],
   "source": [
    "result_df = calculate_result(X_test_df)"
   ]
  },
  {
   "cell_type": "code",
   "execution_count": 46,
   "id": "b3c3874c",
   "metadata": {},
   "outputs": [
    {
     "data": {
      "text/html": [
       "<div>\n",
       "<style scoped>\n",
       "    .dataframe tbody tr th:only-of-type {\n",
       "        vertical-align: middle;\n",
       "    }\n",
       "\n",
       "    .dataframe tbody tr th {\n",
       "        vertical-align: top;\n",
       "    }\n",
       "\n",
       "    .dataframe thead th {\n",
       "        text-align: right;\n",
       "    }\n",
       "</style>\n",
       "<table border=\"1\" class=\"dataframe\">\n",
       "  <thead>\n",
       "    <tr style=\"text-align: right;\">\n",
       "      <th></th>\n",
       "      <th>news</th>\n",
       "      <th>labels</th>\n",
       "      <th>Positive</th>\n",
       "      <th>Negative</th>\n",
       "      <th>Neutral</th>\n",
       "      <th>result</th>\n",
       "    </tr>\n",
       "  </thead>\n",
       "  <tbody>\n",
       "    <tr>\n",
       "      <th>0</th>\n",
       "      <td>PayPal ups weekly limit on crypto purchases to...</td>\n",
       "      <td>1</td>\n",
       "      <td>0.129498</td>\n",
       "      <td>0.562219</td>\n",
       "      <td>0.308283</td>\n",
       "      <td>-1</td>\n",
       "    </tr>\n",
       "    <tr>\n",
       "      <th>1</th>\n",
       "      <td>Bitcoin climbs more than 10% following an ext...</td>\n",
       "      <td>1</td>\n",
       "      <td>0.010615</td>\n",
       "      <td>0.011444</td>\n",
       "      <td>0.977942</td>\n",
       "      <td>0</td>\n",
       "    </tr>\n",
       "    <tr>\n",
       "      <th>2</th>\n",
       "      <td>Russian crypto ban proposal draws denunciation...</td>\n",
       "      <td>-1</td>\n",
       "      <td>0.890342</td>\n",
       "      <td>0.087145</td>\n",
       "      <td>0.022513</td>\n",
       "      <td>1</td>\n",
       "    </tr>\n",
       "    <tr>\n",
       "      <th>3</th>\n",
       "      <td>At least $611 million stolen in massive cross-...</td>\n",
       "      <td>-1</td>\n",
       "      <td>0.916018</td>\n",
       "      <td>0.060444</td>\n",
       "      <td>0.023538</td>\n",
       "      <td>1</td>\n",
       "    </tr>\n",
       "    <tr>\n",
       "      <th>4</th>\n",
       "      <td>Shenzhen-listed ICT firm to spend up to $155 m...</td>\n",
       "      <td>1</td>\n",
       "      <td>0.006029</td>\n",
       "      <td>0.022424</td>\n",
       "      <td>0.971547</td>\n",
       "      <td>0</td>\n",
       "    </tr>\n",
       "    <tr>\n",
       "      <th>5</th>\n",
       "      <td>Coinbase says it holds bitcoin as an investmen...</td>\n",
       "      <td>1</td>\n",
       "      <td>0.005310</td>\n",
       "      <td>0.019722</td>\n",
       "      <td>0.974968</td>\n",
       "      <td>0</td>\n",
       "    </tr>\n",
       "    <tr>\n",
       "      <th>6</th>\n",
       "      <td>Solana-based DEX Soldex AI : An interview with...</td>\n",
       "      <td>0</td>\n",
       "      <td>0.018919</td>\n",
       "      <td>0.959193</td>\n",
       "      <td>0.021887</td>\n",
       "      <td>-1</td>\n",
       "    </tr>\n",
       "    <tr>\n",
       "      <th>7</th>\n",
       "      <td>Keep, NuCypher communities back protocol merge...</td>\n",
       "      <td>0</td>\n",
       "      <td>0.021079</td>\n",
       "      <td>0.742907</td>\n",
       "      <td>0.236014</td>\n",
       "      <td>-1</td>\n",
       "    </tr>\n",
       "    <tr>\n",
       "      <th>8</th>\n",
       "      <td>Cross-chain decentralized exchange zkLink rais...</td>\n",
       "      <td>1</td>\n",
       "      <td>0.004484</td>\n",
       "      <td>0.038862</td>\n",
       "      <td>0.956654</td>\n",
       "      <td>0</td>\n",
       "    </tr>\n",
       "    <tr>\n",
       "      <th>9</th>\n",
       "      <td>Grammy Award winner The Weeknd announces plan ...</td>\n",
       "      <td>1</td>\n",
       "      <td>0.011070</td>\n",
       "      <td>0.940532</td>\n",
       "      <td>0.048397</td>\n",
       "      <td>-1</td>\n",
       "    </tr>\n",
       "  </tbody>\n",
       "</table>\n",
       "</div>"
      ],
      "text/plain": [
       "                                                news  labels  Positive  \\\n",
       "0  PayPal ups weekly limit on crypto purchases to...       1  0.129498   \n",
       "1  Bitcoin climbs more than 10% following an ext...       1  0.010615   \n",
       "2  Russian crypto ban proposal draws denunciation...      -1  0.890342   \n",
       "3  At least $611 million stolen in massive cross-...      -1  0.916018   \n",
       "4  Shenzhen-listed ICT firm to spend up to $155 m...       1  0.006029   \n",
       "5  Coinbase says it holds bitcoin as an investmen...       1  0.005310   \n",
       "6  Solana-based DEX Soldex AI : An interview with...       0  0.018919   \n",
       "7  Keep, NuCypher communities back protocol merge...       0  0.021079   \n",
       "8  Cross-chain decentralized exchange zkLink rais...       1  0.004484   \n",
       "9  Grammy Award winner The Weeknd announces plan ...       1  0.011070   \n",
       "\n",
       "   Negative   Neutral  result  \n",
       "0  0.562219  0.308283      -1  \n",
       "1  0.011444  0.977942       0  \n",
       "2  0.087145  0.022513       1  \n",
       "3  0.060444  0.023538       1  \n",
       "4  0.022424  0.971547       0  \n",
       "5  0.019722  0.974968       0  \n",
       "6  0.959193  0.021887      -1  \n",
       "7  0.742907  0.236014      -1  \n",
       "8  0.038862  0.956654       0  \n",
       "9  0.940532  0.048397      -1  "
      ]
     },
     "execution_count": 46,
     "metadata": {},
     "output_type": "execute_result"
    }
   ],
   "source": [
    "result_df.head(10)"
   ]
  },
  {
   "cell_type": "code",
   "execution_count": 47,
   "id": "4999681b",
   "metadata": {},
   "outputs": [
    {
     "data": {
      "text/plain": [
       "(108, 6)"
      ]
     },
     "execution_count": 47,
     "metadata": {},
     "output_type": "execute_result"
    }
   ],
   "source": [
    "result_df.shape"
   ]
  },
  {
   "cell_type": "code",
   "execution_count": 48,
   "id": "771bc58f",
   "metadata": {},
   "outputs": [
    {
     "data": {
      "text/plain": [
       "0.12962962962962962"
      ]
     },
     "execution_count": 48,
     "metadata": {},
     "output_type": "execute_result"
    }
   ],
   "source": [
    "#The accuracy with the original FinBERT:\n",
    "accuracy_score(y_true=result_df['labels'], y_pred=result_df['result'])"
   ]
  },
  {
   "cell_type": "markdown",
   "id": "825d4b18",
   "metadata": {},
   "source": [
    "### Retraining with a second set of arguments "
   ]
  },
  {
   "cell_type": "code",
   "execution_count": 49,
   "id": "40ba45bd",
   "metadata": {},
   "outputs": [
    {
     "name": "stderr",
     "output_type": "stream",
     "text": [
      "PyTorch: setting up devices\n",
      "The default value for the training argument `--report_to` will change in v5 (from all installed integrations to none). In v5, you will need to use `--report_to all` to get the same behavior as now. You should start updating your code and make this info disappear :-).\n"
     ]
    }
   ],
   "source": [
    "# Define Trainer\n",
    "args = TrainingArguments(\n",
    "        output_dir = 'second_test/',\n",
    "        evaluation_strategy = 'epoch',\n",
    "        save_strategy = 'epoch',\n",
    "        learning_rate=2e-5,\n",
    "        per_device_train_batch_size=32,\n",
    "        per_device_eval_batch_size=32,\n",
    "        num_train_epochs=4,\n",
    "        weight_decay=0.01,\n",
    "        load_best_model_at_end=True,\n",
    "        metric_for_best_model='accuracy',\n",
    ")\n"
   ]
  },
  {
   "cell_type": "code",
   "execution_count": 50,
   "id": "4a3bcd7f",
   "metadata": {},
   "outputs": [],
   "source": [
    "trainer = Trainer(\n",
    "    model=model,\n",
    "    args=args,\n",
    "    train_dataset=train_dataset,\n",
    "    eval_dataset=val_dataset,\n",
    "    compute_metrics=compute_metrics,\n",
    "    callbacks=[EarlyStoppingCallback(early_stopping_patience=3)],\n",
    ")"
   ]
  },
  {
   "cell_type": "code",
   "execution_count": 51,
   "id": "13ae0959",
   "metadata": {},
   "outputs": [
    {
     "name": "stderr",
     "output_type": "stream",
     "text": [
      "***** Running training *****\n",
      "  Num examples = 2146\n",
      "  Num Epochs = 4\n",
      "  Instantaneous batch size per device = 32\n",
      "  Total train batch size (w. parallel, distributed & accumulation) = 32\n",
      "  Gradient Accumulation steps = 1\n",
      "  Total optimization steps = 272\n"
     ]
    },
    {
     "data": {
      "text/html": [
       "\n",
       "    <div>\n",
       "      \n",
       "      <progress value='272' max='272' style='width:300px; height:20px; vertical-align: middle;'></progress>\n",
       "      [272/272 40:22, Epoch 4/4]\n",
       "    </div>\n",
       "    <table border=\"1\" class=\"dataframe\">\n",
       "  <thead>\n",
       " <tr style=\"text-align: left;\">\n",
       "      <th>Epoch</th>\n",
       "      <th>Training Loss</th>\n",
       "      <th>Validation Loss</th>\n",
       "      <th>Accuracy</th>\n",
       "    </tr>\n",
       "  </thead>\n",
       "  <tbody>\n",
       "    <tr>\n",
       "      <td>1</td>\n",
       "      <td>No log</td>\n",
       "      <td>2.328407</td>\n",
       "      <td>0.403263</td>\n",
       "    </tr>\n",
       "    <tr>\n",
       "      <td>2</td>\n",
       "      <td>No log</td>\n",
       "      <td>2.561280</td>\n",
       "      <td>0.389277</td>\n",
       "    </tr>\n",
       "    <tr>\n",
       "      <td>3</td>\n",
       "      <td>No log</td>\n",
       "      <td>2.762023</td>\n",
       "      <td>0.389277</td>\n",
       "    </tr>\n",
       "    <tr>\n",
       "      <td>4</td>\n",
       "      <td>No log</td>\n",
       "      <td>2.879592</td>\n",
       "      <td>0.389277</td>\n",
       "    </tr>\n",
       "  </tbody>\n",
       "</table><p>"
      ],
      "text/plain": [
       "<IPython.core.display.HTML object>"
      ]
     },
     "metadata": {},
     "output_type": "display_data"
    },
    {
     "name": "stderr",
     "output_type": "stream",
     "text": [
      "***** Running Evaluation *****\n",
      "  Num examples = 429\n",
      "  Batch size = 32\n",
      "Saving model checkpoint to second_test/checkpoint-68\n",
      "Configuration saved in second_test/checkpoint-68/config.json\n",
      "Model weights saved in second_test/checkpoint-68/pytorch_model.bin\n",
      "***** Running Evaluation *****\n",
      "  Num examples = 429\n",
      "  Batch size = 32\n",
      "Saving model checkpoint to second_test/checkpoint-136\n",
      "Configuration saved in second_test/checkpoint-136/config.json\n",
      "Model weights saved in second_test/checkpoint-136/pytorch_model.bin\n",
      "***** Running Evaluation *****\n",
      "  Num examples = 429\n",
      "  Batch size = 32\n",
      "Saving model checkpoint to second_test/checkpoint-204\n",
      "Configuration saved in second_test/checkpoint-204/config.json\n",
      "Model weights saved in second_test/checkpoint-204/pytorch_model.bin\n",
      "***** Running Evaluation *****\n",
      "  Num examples = 429\n",
      "  Batch size = 32\n",
      "Saving model checkpoint to second_test/checkpoint-272\n",
      "Configuration saved in second_test/checkpoint-272/config.json\n",
      "Model weights saved in second_test/checkpoint-272/pytorch_model.bin\n",
      "\n",
      "\n",
      "Training completed. Do not forget to share your model on huggingface.co/models =)\n",
      "\n",
      "\n",
      "Loading best model from second_test/checkpoint-68 (score: 0.40326340326340326).\n"
     ]
    },
    {
     "data": {
      "text/plain": [
       "TrainOutput(global_step=272, training_loss=0.16326583133024328, metrics={'train_runtime': 2430.9704, 'train_samples_per_second': 3.531, 'train_steps_per_second': 0.112, 'total_flos': 185272957552032.0, 'train_loss': 0.16326583133024328, 'epoch': 4.0})"
      ]
     },
     "execution_count": 51,
     "metadata": {},
     "output_type": "execute_result"
    }
   ],
   "source": [
    "# Train pre-trained model\n",
    "trainer.train()"
   ]
  },
  {
   "cell_type": "code",
   "execution_count": 52,
   "id": "c86cd285",
   "metadata": {},
   "outputs": [],
   "source": [
    "# ----- 3. Predicting -----#\n",
    "# Create torch dataset\n",
    "test_dataset = Dataset(X_test_tokenized, y_test)"
   ]
  },
  {
   "cell_type": "code",
   "execution_count": 53,
   "id": "0a801eae",
   "metadata": {},
   "outputs": [
    {
     "name": "stderr",
     "output_type": "stream",
     "text": [
      "loading configuration file second_test/checkpoint-204/config.json\n",
      "Model config BertConfig {\n",
      "  \"_name_or_path\": \"first_test/checkpoint-500\",\n",
      "  \"architectures\": [\n",
      "    \"BertForSequenceClassification\"\n",
      "  ],\n",
      "  \"attention_probs_dropout_prob\": 0.1,\n",
      "  \"classifier_dropout\": null,\n",
      "  \"gradient_checkpointing\": false,\n",
      "  \"hidden_act\": \"gelu\",\n",
      "  \"hidden_dropout_prob\": 0.1,\n",
      "  \"hidden_size\": 768,\n",
      "  \"id2label\": {\n",
      "    \"0\": \"positive\",\n",
      "    \"1\": \"negative\",\n",
      "    \"2\": \"neutral\"\n",
      "  },\n",
      "  \"initializer_range\": 0.02,\n",
      "  \"intermediate_size\": 3072,\n",
      "  \"label2id\": {\n",
      "    \"negative\": 1,\n",
      "    \"neutral\": 2,\n",
      "    \"positive\": 0\n",
      "  },\n",
      "  \"layer_norm_eps\": 1e-12,\n",
      "  \"max_position_embeddings\": 512,\n",
      "  \"model_type\": \"bert\",\n",
      "  \"num_attention_heads\": 12,\n",
      "  \"num_hidden_layers\": 12,\n",
      "  \"pad_token_id\": 0,\n",
      "  \"position_embedding_type\": \"absolute\",\n",
      "  \"problem_type\": \"single_label_classification\",\n",
      "  \"torch_dtype\": \"float32\",\n",
      "  \"transformers_version\": \"4.20.0\",\n",
      "  \"type_vocab_size\": 2,\n",
      "  \"use_cache\": true,\n",
      "  \"vocab_size\": 30522\n",
      "}\n",
      "\n",
      "loading weights file second_test/checkpoint-204/pytorch_model.bin\n",
      "All model checkpoint weights were used when initializing BertForSequenceClassification.\n",
      "\n",
      "All the weights of BertForSequenceClassification were initialized from the model checkpoint at second_test/checkpoint-204.\n",
      "If your task is similar to the task the model of the checkpoint was trained on, you can already use BertForSequenceClassification for predictions without further training.\n"
     ]
    }
   ],
   "source": [
    "# Load trained model\n",
    "model_path = \"second_test/checkpoint-204\"\n",
    "model = BertForSequenceClassification.from_pretrained(model_path, num_labels=3)"
   ]
  },
  {
   "cell_type": "code",
   "execution_count": 54,
   "id": "a7997e0c",
   "metadata": {},
   "outputs": [
    {
     "name": "stderr",
     "output_type": "stream",
     "text": [
      "No `TrainingArguments` passed, using `output_dir=tmp_trainer`.\n",
      "PyTorch: setting up devices\n",
      "The default value for the training argument `--report_to` will change in v5 (from all installed integrations to none). In v5, you will need to use `--report_to all` to get the same behavior as now. You should start updating your code and make this info disappear :-).\n"
     ]
    }
   ],
   "source": [
    "# Define test trainer\n",
    "test_trainer = Trainer(model)"
   ]
  },
  {
   "cell_type": "code",
   "execution_count": 55,
   "id": "cb693856",
   "metadata": {},
   "outputs": [
    {
     "name": "stderr",
     "output_type": "stream",
     "text": [
      "***** Running Prediction *****\n",
      "  Num examples = 108\n",
      "  Batch size = 8\n"
     ]
    },
    {
     "data": {
      "text/html": [
       "\n",
       "    <div>\n",
       "      \n",
       "      <progress value='14' max='14' style='width:300px; height:20px; vertical-align: middle;'></progress>\n",
       "      [14/14 00:05]\n",
       "    </div>\n",
       "    "
      ],
      "text/plain": [
       "<IPython.core.display.HTML object>"
      ]
     },
     "metadata": {},
     "output_type": "display_data"
    }
   ],
   "source": [
    " #Make prediction\n",
    "raw_pred, _, _ = test_trainer.predict(test_dataset)"
   ]
  },
  {
   "cell_type": "code",
   "execution_count": 56,
   "id": "d5e38558",
   "metadata": {},
   "outputs": [],
   "source": [
    "# Preprocess raw predictions\n",
    "y_pred = np.argmax(raw_pred, axis=1)"
   ]
  },
  {
   "cell_type": "code",
   "execution_count": 57,
   "id": "e2a53735",
   "metadata": {},
   "outputs": [
    {
     "data": {
      "text/plain": [
       "0.7314814814814815"
      ]
     },
     "execution_count": 57,
     "metadata": {},
     "output_type": "execute_result"
    }
   ],
   "source": [
    "#The accuracy with the re-trained FinBERT:\n",
    "accuracy_score(y_true=y_test, y_pred=y_pred)"
   ]
  },
  {
   "cell_type": "markdown",
   "id": "7b85444d",
   "metadata": {},
   "source": [
    "## Testing different approaches to improve the model accuracy "
   ]
  },
  {
   "cell_type": "markdown",
   "id": "f3307b4f",
   "metadata": {},
   "source": [
    "### Removing the Stopwords "
   ]
  },
  {
   "cell_type": "code",
   "execution_count": 58,
   "id": "1619db64",
   "metadata": {
    "scrolled": true
   },
   "outputs": [
    {
     "name": "stderr",
     "output_type": "stream",
     "text": [
      "[nltk_data] Downloading package stopwords to /Users/paula/nltk_data...\n",
      "[nltk_data]   Unzipping corpora/stopwords.zip.\n"
     ]
    }
   ],
   "source": [
    "import nltk\n",
    "nltk.download('stopwords')\n",
    "from nltk.corpus import stopwords\n",
    "\n",
    "stop_words = stopwords.words('english')\n",
    "df['news'] = df['news'].apply(lambda x: ' '.join([word for word in x.split() if word not in (stop_words)]))"
   ]
  },
  {
   "cell_type": "code",
   "execution_count": 59,
   "id": "a4eadecb",
   "metadata": {},
   "outputs": [],
   "source": [
    "df[\"news\"] = df[\"news\"].str.lower()"
   ]
  },
  {
   "cell_type": "code",
   "execution_count": 60,
   "id": "eed7d0d5",
   "metadata": {},
   "outputs": [
    {
     "name": "stdout",
     "output_type": "stream",
     "text": [
      "0       ripple announces stock buyback nabs 15 billion...\n",
      "1       imf directors urge el salvador remove bitcoin ...\n",
      "2          dragonfly capital raising 500 million new fund\n",
      "3       rick morty cocreator collaborates paradigm nft...\n",
      "4                            how fintech spacs lost shine\n",
      "                              ...                        \n",
      "2678    gambling good cause  cryptoslots donates proce...\n",
      "2679             litecoin the chinese alternative bitcoin\n",
      "2680                     do you know what happening money\n",
      "2681                 download coinmarketcal app app store\n",
      "2682               download coinmarketcal app google play\n",
      "Name: news, Length: 2683, dtype: object\n"
     ]
    }
   ],
   "source": [
    "import string\n",
    "df[\"news\"] = df['news'].str.replace('[^\\w\\s]','')\n",
    "print(df['news'])"
   ]
  },
  {
   "cell_type": "code",
   "execution_count": 61,
   "id": "49c0a2a9",
   "metadata": {},
   "outputs": [
    {
     "name": "stderr",
     "output_type": "stream",
     "text": [
      "[nltk_data] Downloading package punkt to /Users/paula/nltk_data...\n",
      "[nltk_data]   Package punkt is already up-to-date!\n",
      "[nltk_data] Downloading package wordnet to /Users/paula/nltk_data...\n",
      "[nltk_data]   Package wordnet is already up-to-date!\n"
     ]
    }
   ],
   "source": [
    "from nltk.stem import WordNetLemmatizer\n",
    "from nltk.tokenize import word_tokenize\n",
    "nltk.download('punkt')\n",
    "nltk.download('wordnet')\n",
    "\n",
    "lemmatizer = WordNetLemmatizer()\n",
    "\n",
    "#Function to apply for each word the proper lemmatization.\n",
    "def lemmetize_titles(words):\n",
    "    a = []\n",
    "    tokens = word_tokenize(words)\n",
    "    for token in tokens:\n",
    "        lemmetized_word = lemmatizer.lemmatize(token)\n",
    "        a.append(lemmetized_word)\n",
    "    lemmatized_title = ' '.join(a)\n",
    "    return lemmatized_title"
   ]
  },
  {
   "cell_type": "code",
   "execution_count": 62,
   "id": "a5c48898",
   "metadata": {},
   "outputs": [],
   "source": [
    "df['lemmetized_titles'] = df['news'].apply(lemmetize_titles)"
   ]
  },
  {
   "cell_type": "code",
   "execution_count": 63,
   "id": "68bc5d71",
   "metadata": {},
   "outputs": [
    {
     "data": {
      "text/html": [
       "<div>\n",
       "<style scoped>\n",
       "    .dataframe tbody tr th:only-of-type {\n",
       "        vertical-align: middle;\n",
       "    }\n",
       "\n",
       "    .dataframe tbody tr th {\n",
       "        vertical-align: top;\n",
       "    }\n",
       "\n",
       "    .dataframe thead th {\n",
       "        text-align: right;\n",
       "    }\n",
       "</style>\n",
       "<table border=\"1\" class=\"dataframe\">\n",
       "  <thead>\n",
       "    <tr style=\"text-align: right;\">\n",
       "      <th></th>\n",
       "      <th>news</th>\n",
       "      <th>labels</th>\n",
       "      <th>lemmetized_titles</th>\n",
       "    </tr>\n",
       "  </thead>\n",
       "  <tbody>\n",
       "    <tr>\n",
       "      <th>0</th>\n",
       "      <td>ripple announces stock buyback nabs 15 billion...</td>\n",
       "      <td>2</td>\n",
       "      <td>ripple announces stock buyback nabs 15 billion...</td>\n",
       "    </tr>\n",
       "    <tr>\n",
       "      <th>1</th>\n",
       "      <td>imf directors urge el salvador remove bitcoin ...</td>\n",
       "      <td>0</td>\n",
       "      <td>imf director urge el salvador remove bitcoin l...</td>\n",
       "    </tr>\n",
       "    <tr>\n",
       "      <th>2</th>\n",
       "      <td>dragonfly capital raising 500 million new fund</td>\n",
       "      <td>2</td>\n",
       "      <td>dragonfly capital raising 500 million new fund</td>\n",
       "    </tr>\n",
       "    <tr>\n",
       "      <th>3</th>\n",
       "      <td>rick morty cocreator collaborates paradigm nft...</td>\n",
       "      <td>1</td>\n",
       "      <td>rick morty cocreator collaborates paradigm nft...</td>\n",
       "    </tr>\n",
       "    <tr>\n",
       "      <th>4</th>\n",
       "      <td>how fintech spacs lost shine</td>\n",
       "      <td>1</td>\n",
       "      <td>how fintech spacs lost shine</td>\n",
       "    </tr>\n",
       "    <tr>\n",
       "      <th>5</th>\n",
       "      <td>multichain vulnerability put billion dollars r...</td>\n",
       "      <td>0</td>\n",
       "      <td>multichain vulnerability put billion dollar ri...</td>\n",
       "    </tr>\n",
       "    <tr>\n",
       "      <th>6</th>\n",
       "      <td>youtube wants help content creators capitalize...</td>\n",
       "      <td>1</td>\n",
       "      <td>youtube want help content creator capitalize nfts</td>\n",
       "    </tr>\n",
       "    <tr>\n",
       "      <th>7</th>\n",
       "      <td>opensea reimbursing users sold nfts market val...</td>\n",
       "      <td>1</td>\n",
       "      <td>opensea reimbursing user sold nfts market valu...</td>\n",
       "    </tr>\n",
       "    <tr>\n",
       "      <th>8</th>\n",
       "      <td>gooddollar launches key protocol upgrade expan...</td>\n",
       "      <td>2</td>\n",
       "      <td>gooddollar launch key protocol upgrade expand ...</td>\n",
       "    </tr>\n",
       "    <tr>\n",
       "      <th>9</th>\n",
       "      <td>bcb group raises 60 million series a round col...</td>\n",
       "      <td>2</td>\n",
       "      <td>bcb group raise 60 million series a round cole...</td>\n",
       "    </tr>\n",
       "    <tr>\n",
       "      <th>10</th>\n",
       "      <td>carola morena boost music talent search ahead ...</td>\n",
       "      <td>2</td>\n",
       "      <td>carola morena boost music talent search ahead ...</td>\n",
       "    </tr>\n",
       "    <tr>\n",
       "      <th>11</th>\n",
       "      <td>twitter growing inhouse crypto team</td>\n",
       "      <td>2</td>\n",
       "      <td>twitter growing inhouse crypto team</td>\n",
       "    </tr>\n",
       "    <tr>\n",
       "      <th>12</th>\n",
       "      <td>bitcoin climbs 10 following extraordinary reco...</td>\n",
       "      <td>2</td>\n",
       "      <td>bitcoin climb 10 following extraordinary recov...</td>\n",
       "    </tr>\n",
       "    <tr>\n",
       "      <th>13</th>\n",
       "      <td>walmart director joins board crypto wallet com...</td>\n",
       "      <td>2</td>\n",
       "      <td>walmart director join board crypto wallet comp...</td>\n",
       "    </tr>\n",
       "    <tr>\n",
       "      <th>14</th>\n",
       "      <td>congressman mchenry says regulators oversteppi...</td>\n",
       "      <td>0</td>\n",
       "      <td>congressman mchenry say regulator overstepping...</td>\n",
       "    </tr>\n",
       "    <tr>\n",
       "      <th>15</th>\n",
       "      <td>coinbase hires former sec counsel serve senior...</td>\n",
       "      <td>2</td>\n",
       "      <td>coinbase hire former sec counsel serve senior ...</td>\n",
       "    </tr>\n",
       "    <tr>\n",
       "      <th>16</th>\n",
       "      <td>ribbon finance automated options selling strat...</td>\n",
       "      <td>1</td>\n",
       "      <td>ribbon finance automated option selling strategy</td>\n",
       "    </tr>\n",
       "    <tr>\n",
       "      <th>17</th>\n",
       "      <td>oko miners announces attractive deals several ...</td>\n",
       "      <td>1</td>\n",
       "      <td>oko miner announces attractive deal several mi...</td>\n",
       "    </tr>\n",
       "    <tr>\n",
       "      <th>18</th>\n",
       "      <td>metavisa start ieo sale mesa token bitmart</td>\n",
       "      <td>1</td>\n",
       "      <td>metavisa start ieo sale mesa token bitmart</td>\n",
       "    </tr>\n",
       "    <tr>\n",
       "      <th>19</th>\n",
       "      <td>dev builds tool lets autoblock nft people twitter</td>\n",
       "      <td>1</td>\n",
       "      <td>dev build tool let autoblock nft people twitter</td>\n",
       "    </tr>\n",
       "  </tbody>\n",
       "</table>\n",
       "</div>"
      ],
      "text/plain": [
       "                                                 news  labels  \\\n",
       "0   ripple announces stock buyback nabs 15 billion...       2   \n",
       "1   imf directors urge el salvador remove bitcoin ...       0   \n",
       "2      dragonfly capital raising 500 million new fund       2   \n",
       "3   rick morty cocreator collaborates paradigm nft...       1   \n",
       "4                        how fintech spacs lost shine       1   \n",
       "5   multichain vulnerability put billion dollars r...       0   \n",
       "6   youtube wants help content creators capitalize...       1   \n",
       "7   opensea reimbursing users sold nfts market val...       1   \n",
       "8   gooddollar launches key protocol upgrade expan...       2   \n",
       "9   bcb group raises 60 million series a round col...       2   \n",
       "10  carola morena boost music talent search ahead ...       2   \n",
       "11                twitter growing inhouse crypto team       2   \n",
       "12  bitcoin climbs 10 following extraordinary reco...       2   \n",
       "13  walmart director joins board crypto wallet com...       2   \n",
       "14  congressman mchenry says regulators oversteppi...       0   \n",
       "15  coinbase hires former sec counsel serve senior...       2   \n",
       "16  ribbon finance automated options selling strat...       1   \n",
       "17  oko miners announces attractive deals several ...       1   \n",
       "18         metavisa start ieo sale mesa token bitmart       1   \n",
       "19  dev builds tool lets autoblock nft people twitter       1   \n",
       "\n",
       "                                    lemmetized_titles  \n",
       "0   ripple announces stock buyback nabs 15 billion...  \n",
       "1   imf director urge el salvador remove bitcoin l...  \n",
       "2      dragonfly capital raising 500 million new fund  \n",
       "3   rick morty cocreator collaborates paradigm nft...  \n",
       "4                        how fintech spacs lost shine  \n",
       "5   multichain vulnerability put billion dollar ri...  \n",
       "6   youtube want help content creator capitalize nfts  \n",
       "7   opensea reimbursing user sold nfts market valu...  \n",
       "8   gooddollar launch key protocol upgrade expand ...  \n",
       "9   bcb group raise 60 million series a round cole...  \n",
       "10  carola morena boost music talent search ahead ...  \n",
       "11                twitter growing inhouse crypto team  \n",
       "12  bitcoin climb 10 following extraordinary recov...  \n",
       "13  walmart director join board crypto wallet comp...  \n",
       "14  congressman mchenry say regulator overstepping...  \n",
       "15  coinbase hire former sec counsel serve senior ...  \n",
       "16   ribbon finance automated option selling strategy  \n",
       "17  oko miner announces attractive deal several mi...  \n",
       "18         metavisa start ieo sale mesa token bitmart  \n",
       "19    dev build tool let autoblock nft people twitter  "
      ]
     },
     "execution_count": 63,
     "metadata": {},
     "output_type": "execute_result"
    }
   ],
   "source": [
    "df.head(20)"
   ]
  },
  {
   "cell_type": "code",
   "execution_count": 64,
   "id": "e3339532",
   "metadata": {},
   "outputs": [],
   "source": [
    "# Preprocess data\n",
    "X = list(df[\"lemmetized_titles\"])\n",
    "y = list(df[\"labels\"])\n",
    "X_train, X_val, y_train, y_val = train_test_split(X, y, test_size=0.2)\n",
    "X_val_2, X_test, y_val_2, y_test = train_test_split(X_val, y_val, test_size=0.2)\n",
    "X_train_tokenized = tokenizer(X_train, padding=True, truncation=True, max_length=512)\n",
    "X_val_tokenized = tokenizer(X_val_2, padding=True, truncation=True, max_length=512)\n",
    "X_test_tokenized = tokenizer(X_test, padding=True, truncation=True, max_length=512)"
   ]
  },
  {
   "cell_type": "code",
   "execution_count": 65,
   "id": "84f215af",
   "metadata": {},
   "outputs": [],
   "source": [
    "train_dataset = Dataset(X_train_tokenized, y_train)\n",
    "val_dataset = Dataset(X_val_tokenized, y_val)\n",
    "test_dataset = Dataset(X_test_tokenized, y_test)"
   ]
  },
  {
   "cell_type": "code",
   "execution_count": 66,
   "id": "0eb497ed",
   "metadata": {},
   "outputs": [
    {
     "name": "stderr",
     "output_type": "stream",
     "text": [
      "PyTorch: setting up devices\n",
      "The default value for the training argument `--report_to` will change in v5 (from all installed integrations to none). In v5, you will need to use `--report_to all` to get the same behavior as now. You should start updating your code and make this info disappear :-).\n"
     ]
    }
   ],
   "source": [
    "# Define Trainer\n",
    "args = TrainingArguments(\n",
    "        output_dir = 'third_test/',\n",
    "        evaluation_strategy = 'epoch',\n",
    "        save_strategy = 'epoch',\n",
    "        learning_rate=2e-5,\n",
    "        per_device_train_batch_size=8,\n",
    "        per_device_eval_batch_size=8,\n",
    "        num_train_epochs=4,\n",
    "        weight_decay=0.01,\n",
    "        load_best_model_at_end=True,\n",
    "        metric_for_best_model='accuracy',\n",
    ")"
   ]
  },
  {
   "cell_type": "code",
   "execution_count": 67,
   "id": "7e3e014e",
   "metadata": {},
   "outputs": [],
   "source": [
    "trainer = Trainer(\n",
    "    model=model,\n",
    "    args=args,\n",
    "    train_dataset=train_dataset,\n",
    "    eval_dataset=val_dataset,\n",
    "    compute_metrics=compute_metrics,\n",
    "    callbacks=[EarlyStoppingCallback(early_stopping_patience=3)],\n",
    ")"
   ]
  },
  {
   "cell_type": "code",
   "execution_count": 68,
   "id": "666bb85c",
   "metadata": {
    "scrolled": true
   },
   "outputs": [
    {
     "name": "stderr",
     "output_type": "stream",
     "text": [
      "***** Running training *****\n",
      "  Num examples = 2146\n",
      "  Num Epochs = 4\n",
      "  Instantaneous batch size per device = 8\n",
      "  Total train batch size (w. parallel, distributed & accumulation) = 8\n",
      "  Gradient Accumulation steps = 1\n",
      "  Total optimization steps = 1076\n"
     ]
    },
    {
     "data": {
      "text/html": [
       "\n",
       "    <div>\n",
       "      \n",
       "      <progress value='1076' max='1076' style='width:300px; height:20px; vertical-align: middle;'></progress>\n",
       "      [1076/1076 40:14, Epoch 4/4]\n",
       "    </div>\n",
       "    <table border=\"1\" class=\"dataframe\">\n",
       "  <thead>\n",
       " <tr style=\"text-align: left;\">\n",
       "      <th>Epoch</th>\n",
       "      <th>Training Loss</th>\n",
       "      <th>Validation Loss</th>\n",
       "      <th>Accuracy</th>\n",
       "    </tr>\n",
       "  </thead>\n",
       "  <tbody>\n",
       "    <tr>\n",
       "      <td>1</td>\n",
       "      <td>No log</td>\n",
       "      <td>1.818241</td>\n",
       "      <td>0.435897</td>\n",
       "    </tr>\n",
       "    <tr>\n",
       "      <td>2</td>\n",
       "      <td>0.418200</td>\n",
       "      <td>2.943276</td>\n",
       "      <td>0.391608</td>\n",
       "    </tr>\n",
       "    <tr>\n",
       "      <td>3</td>\n",
       "      <td>0.418200</td>\n",
       "      <td>3.384900</td>\n",
       "      <td>0.407925</td>\n",
       "    </tr>\n",
       "    <tr>\n",
       "      <td>4</td>\n",
       "      <td>0.177700</td>\n",
       "      <td>3.623519</td>\n",
       "      <td>0.396270</td>\n",
       "    </tr>\n",
       "  </tbody>\n",
       "</table><p>"
      ],
      "text/plain": [
       "<IPython.core.display.HTML object>"
      ]
     },
     "metadata": {},
     "output_type": "display_data"
    },
    {
     "name": "stderr",
     "output_type": "stream",
     "text": [
      "***** Running Evaluation *****\n",
      "  Num examples = 429\n",
      "  Batch size = 8\n",
      "Saving model checkpoint to third_test/checkpoint-269\n",
      "Configuration saved in third_test/checkpoint-269/config.json\n",
      "Model weights saved in third_test/checkpoint-269/pytorch_model.bin\n",
      "***** Running Evaluation *****\n",
      "  Num examples = 429\n",
      "  Batch size = 8\n",
      "Saving model checkpoint to third_test/checkpoint-538\n",
      "Configuration saved in third_test/checkpoint-538/config.json\n",
      "Model weights saved in third_test/checkpoint-538/pytorch_model.bin\n",
      "***** Running Evaluation *****\n",
      "  Num examples = 429\n",
      "  Batch size = 8\n",
      "Saving model checkpoint to third_test/checkpoint-807\n",
      "Configuration saved in third_test/checkpoint-807/config.json\n",
      "Model weights saved in third_test/checkpoint-807/pytorch_model.bin\n",
      "***** Running Evaluation *****\n",
      "  Num examples = 429\n",
      "  Batch size = 8\n",
      "Saving model checkpoint to third_test/checkpoint-1076\n",
      "Configuration saved in third_test/checkpoint-1076/config.json\n",
      "Model weights saved in third_test/checkpoint-1076/pytorch_model.bin\n",
      "\n",
      "\n",
      "Training completed. Do not forget to share your model on huggingface.co/models =)\n",
      "\n",
      "\n",
      "Loading best model from third_test/checkpoint-269 (score: 0.4358974358974359).\n"
     ]
    },
    {
     "data": {
      "text/plain": [
       "TrainOutput(global_step=1076, training_loss=0.2893604301608628, metrics={'train_runtime': 2417.2246, 'train_samples_per_second': 3.551, 'train_steps_per_second': 0.445, 'total_flos': 136749087716976.0, 'train_loss': 0.2893604301608628, 'epoch': 4.0})"
      ]
     },
     "execution_count": 68,
     "metadata": {},
     "output_type": "execute_result"
    }
   ],
   "source": [
    "# Train pre-trained model\n",
    "trainer.train()"
   ]
  },
  {
   "cell_type": "code",
   "execution_count": 69,
   "id": "c6cba5dc",
   "metadata": {},
   "outputs": [
    {
     "name": "stderr",
     "output_type": "stream",
     "text": [
      "loading configuration file third_test/checkpoint-269/config.json\n",
      "Model config BertConfig {\n",
      "  \"_name_or_path\": \"second_test/checkpoint-204\",\n",
      "  \"architectures\": [\n",
      "    \"BertForSequenceClassification\"\n",
      "  ],\n",
      "  \"attention_probs_dropout_prob\": 0.1,\n",
      "  \"classifier_dropout\": null,\n",
      "  \"gradient_checkpointing\": false,\n",
      "  \"hidden_act\": \"gelu\",\n",
      "  \"hidden_dropout_prob\": 0.1,\n",
      "  \"hidden_size\": 768,\n",
      "  \"id2label\": {\n",
      "    \"0\": \"positive\",\n",
      "    \"1\": \"negative\",\n",
      "    \"2\": \"neutral\"\n",
      "  },\n",
      "  \"initializer_range\": 0.02,\n",
      "  \"intermediate_size\": 3072,\n",
      "  \"label2id\": {\n",
      "    \"negative\": 1,\n",
      "    \"neutral\": 2,\n",
      "    \"positive\": 0\n",
      "  },\n",
      "  \"layer_norm_eps\": 1e-12,\n",
      "  \"max_position_embeddings\": 512,\n",
      "  \"model_type\": \"bert\",\n",
      "  \"num_attention_heads\": 12,\n",
      "  \"num_hidden_layers\": 12,\n",
      "  \"pad_token_id\": 0,\n",
      "  \"position_embedding_type\": \"absolute\",\n",
      "  \"problem_type\": \"single_label_classification\",\n",
      "  \"torch_dtype\": \"float32\",\n",
      "  \"transformers_version\": \"4.20.0\",\n",
      "  \"type_vocab_size\": 2,\n",
      "  \"use_cache\": true,\n",
      "  \"vocab_size\": 30522\n",
      "}\n",
      "\n",
      "loading weights file third_test/checkpoint-269/pytorch_model.bin\n",
      "All model checkpoint weights were used when initializing BertForSequenceClassification.\n",
      "\n",
      "All the weights of BertForSequenceClassification were initialized from the model checkpoint at third_test/checkpoint-269.\n",
      "If your task is similar to the task the model of the checkpoint was trained on, you can already use BertForSequenceClassification for predictions without further training.\n"
     ]
    }
   ],
   "source": [
    "# Load trained model\n",
    "model_path = \"third_test/checkpoint-269\"\n",
    "model = BertForSequenceClassification.from_pretrained(model_path, num_labels=3)"
   ]
  },
  {
   "cell_type": "code",
   "execution_count": 70,
   "id": "363b52f7",
   "metadata": {},
   "outputs": [
    {
     "name": "stderr",
     "output_type": "stream",
     "text": [
      "No `TrainingArguments` passed, using `output_dir=tmp_trainer`.\n",
      "PyTorch: setting up devices\n",
      "The default value for the training argument `--report_to` will change in v5 (from all installed integrations to none). In v5, you will need to use `--report_to all` to get the same behavior as now. You should start updating your code and make this info disappear :-).\n"
     ]
    }
   ],
   "source": [
    "# Define test trainer\n",
    "test_trainer = Trainer(model)"
   ]
  },
  {
   "cell_type": "code",
   "execution_count": 71,
   "id": "f8d4843a",
   "metadata": {},
   "outputs": [
    {
     "name": "stderr",
     "output_type": "stream",
     "text": [
      "***** Running Prediction *****\n",
      "  Num examples = 108\n",
      "  Batch size = 8\n"
     ]
    },
    {
     "data": {
      "text/html": [
       "\n",
       "    <div>\n",
       "      \n",
       "      <progress value='283' max='14' style='width:300px; height:20px; vertical-align: middle;'></progress>\n",
       "      [14/14 10:51]\n",
       "    </div>\n",
       "    "
      ],
      "text/plain": [
       "<IPython.core.display.HTML object>"
      ]
     },
     "metadata": {},
     "output_type": "display_data"
    }
   ],
   "source": [
    " #Make prediction\n",
    "raw_pred, _, _ = test_trainer.predict(test_dataset)"
   ]
  },
  {
   "cell_type": "code",
   "execution_count": 72,
   "id": "3ae22dc7",
   "metadata": {},
   "outputs": [],
   "source": [
    "# Preprocess raw predictions\n",
    "y_pred = np.argmax(raw_pred, axis=1)"
   ]
  },
  {
   "cell_type": "code",
   "execution_count": 73,
   "id": "f8cfbc9d",
   "metadata": {},
   "outputs": [
    {
     "data": {
      "text/plain": [
       "0.8611111111111112"
      ]
     },
     "execution_count": 73,
     "metadata": {},
     "output_type": "execute_result"
    }
   ],
   "source": [
    "#The accuracy with the re-trained FinBERT:\n",
    "accuracy_score(y_true=y_test, y_pred=y_pred)"
   ]
  },
  {
   "cell_type": "code",
   "execution_count": 87,
   "id": "af60986c",
   "metadata": {},
   "outputs": [],
   "source": [
    "from sklearn.metrics import f1_score, precision_score, recall_score, roc_auc_score, confusion_matrix"
   ]
  },
  {
   "cell_type": "code",
   "execution_count": 88,
   "id": "cc1ec73f",
   "metadata": {},
   "outputs": [
    {
     "data": {
      "text/plain": [
       "array([[19,  0,  1],\n",
       "       [ 1, 22, 12],\n",
       "       [ 0,  1, 52]])"
      ]
     },
     "execution_count": 88,
     "metadata": {},
     "output_type": "execute_result"
    }
   ],
   "source": [
    "confusion_matrix(y_true=y_test, y_pred=y_pred)"
   ]
  },
  {
   "cell_type": "code",
   "execution_count": 89,
   "id": "1a1129b6",
   "metadata": {},
   "outputs": [
    {
     "name": "stderr",
     "output_type": "stream",
     "text": [
      "***** Running Prediction *****\n",
      "  Num examples = 2146\n",
      "  Batch size = 8\n"
     ]
    }
   ],
   "source": [
    "raw_pred, _, _ = test_trainer.predict(train_dataset)"
   ]
  },
  {
   "cell_type": "code",
   "execution_count": 90,
   "id": "f26c8789",
   "metadata": {},
   "outputs": [],
   "source": [
    "y_pred = np.argmax(raw_pred, axis=1)"
   ]
  },
  {
   "cell_type": "code",
   "execution_count": 91,
   "id": "3e9b1346",
   "metadata": {},
   "outputs": [
    {
     "data": {
      "text/plain": [
       "0.9263746505125815"
      ]
     },
     "execution_count": 91,
     "metadata": {},
     "output_type": "execute_result"
    }
   ],
   "source": [
    "accuracy_score(y_true=y_train, y_pred=y_pred)"
   ]
  },
  {
   "cell_type": "code",
   "execution_count": 92,
   "id": "90cd3d83",
   "metadata": {},
   "outputs": [
    {
     "data": {
      "text/plain": [
       "array([[ 300,   13,    8],\n",
       "       [  25,  624,   85],\n",
       "       [  10,   17, 1064]])"
      ]
     },
     "execution_count": 92,
     "metadata": {},
     "output_type": "execute_result"
    }
   ],
   "source": [
    "confusion_matrix(y_true=y_train, y_pred=y_pred)"
   ]
  },
  {
   "cell_type": "code",
   "execution_count": null,
   "id": "87913f23",
   "metadata": {},
   "outputs": [],
   "source": []
  }
 ],
 "metadata": {
  "kernelspec": {
   "display_name": "Python 3 (ipykernel)",
   "language": "python",
   "name": "python3"
  },
  "language_info": {
   "codemirror_mode": {
    "name": "ipython",
    "version": 3
   },
   "file_extension": ".py",
   "mimetype": "text/x-python",
   "name": "python",
   "nbconvert_exporter": "python",
   "pygments_lexer": "ipython3",
   "version": "3.9.12"
  }
 },
 "nbformat": 4,
 "nbformat_minor": 5
}
